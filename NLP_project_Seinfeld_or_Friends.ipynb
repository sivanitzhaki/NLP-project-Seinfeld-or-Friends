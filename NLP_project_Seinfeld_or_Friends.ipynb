{
  "cells": [
    {
      "cell_type": "markdown",
      "metadata": {
        "id": "view-in-github",
        "colab_type": "text"
      },
      "source": [
        "<a href=\"https://colab.research.google.com/github/sivanitzhaki/NLP-project-Seinfeld-or-Friends/blob/main/NLP_project_Seinfeld_or_Friends.ipynb\" target=\"_parent\"><img src=\"https://colab.research.google.com/assets/colab-badge.svg\" alt=\"Open In Colab\"/></a>"
      ]
    },
    {
      "cell_type": "markdown",
      "metadata": {
        "id": "IFYfHviDAj8O"
      },
      "source": [
        "# **Excercise 3 - Assignment III - NLP: Seinfeld or Friends?**"
      ]
    },
    {
      "cell_type": "markdown",
      "metadata": {
        "id": "TS60oun3At7C"
      },
      "source": [
        "I was provided with a dataset encompassing transcripts from both Seinfeld and Friends episodes. My objective is to construct a deep learning model capable of discerning whether a given line originates from an episode of Seinfeld or Friends."
      ]
    },
    {
      "cell_type": "code",
      "execution_count": null,
      "metadata": {
        "id": "N66ol6_LVfwX"
      },
      "outputs": [],
      "source": [
        "#imports:\n",
        "\n",
        "import pandas as pd\n",
        "import numpy as np\n",
        "import os\n",
        "import matplotlib.pyplot as plt\n",
        "import seaborn as sns\n",
        "from sklearn.model_selection import train_test_split\n",
        "from sklearn.metrics import accuracy_score\n",
        "from sklearn.metrics import confusion_matrix\n",
        "from sklearn.metrics import ConfusionMatrixDisplay as display_matrix\n",
        "from bs4 import BeautifulSoup\n",
        "import re\n",
        "import nltk\n",
        "from tqdm.notebook import tqdm\n",
        "tqdm.pandas()\n",
        "from sklearn.preprocessing import LabelBinarizer\n",
        "from nltk.tokenize.toktok import ToktokTokenizer\n",
        "from keras.models import Sequential\n",
        "from keras.layers import Dropout, Conv1D, Flatten, Dense, Embedding\n",
        "import tensorflow as tf\n",
        "from tensorflow.keras.preprocessing import sequence\n",
        "from tensorflow.keras.preprocessing.text import Tokenizer\n",
        "import matplotlib.pyplot as plt\n",
        "from wordcloud import WordCloud"
      ]
    },
    {
      "cell_type": "code",
      "execution_count": null,
      "metadata": {
        "colab": {
          "background_save": true
        },
        "id": "1uYLTPtc5wC0"
      },
      "outputs": [],
      "source": [
        "#set the random seed: np.random.seed(42)\n",
        "tf.random.set_seed(42)"
      ]
    },
    {
      "cell_type": "markdown",
      "metadata": {
        "id": "WPkye8gEdRse"
      },
      "source": [
        "load the data:"
      ]
    },
    {
      "cell_type": "code",
      "execution_count": null,
      "metadata": {
        "colab": {
          "background_save": true
        },
        "id": "3cUUYRMCUUl3"
      },
      "outputs": [],
      "source": [
        "train_df = pd.read_csv('https://github.com/odedovadia/AdvancedMLDLCourse/blob/main/Assignments/Assignment%20III/train.csv?raw=true')\n",
        "test_df = pd.read_csv('https://github.com/odedovadia/AdvancedMLDLCourse/blob/main/Assignments/Assignment%20III/test.csv?raw=true')"
      ]
    },
    {
      "cell_type": "markdown",
      "metadata": {
        "id": "kXnZJ1PbeCNp"
      },
      "source": [
        "The dataset contains information about Seinfeld and friends episodes:"
      ]
    },
    {
      "cell_type": "code",
      "execution_count": null,
      "metadata": {
        "colab": {
          "base_uri": "https://localhost:8080/",
          "height": 423
        },
        "id": "8BubHvfJeC4I",
        "outputId": "158bed39-fd6c-443b-d8d9-884e39d51ef2"
      },
      "outputs": [
        {
          "data": {
            "text/html": [
              "\n",
              "  <div id=\"df-6b8b02ce-483c-4d0e-8128-27036fa1378e\">\n",
              "    <div class=\"colab-df-container\">\n",
              "      <div>\n",
              "<style scoped>\n",
              "    .dataframe tbody tr th:only-of-type {\n",
              "        vertical-align: middle;\n",
              "    }\n",
              "\n",
              "    .dataframe tbody tr th {\n",
              "        vertical-align: top;\n",
              "    }\n",
              "\n",
              "    .dataframe thead th {\n",
              "        text-align: right;\n",
              "    }\n",
              "</style>\n",
              "<table border=\"1\" class=\"dataframe\">\n",
              "  <thead>\n",
              "    <tr style=\"text-align: right;\">\n",
              "      <th></th>\n",
              "      <th>Dialogue</th>\n",
              "      <th>Character</th>\n",
              "      <th>Episode</th>\n",
              "      <th>Show</th>\n",
              "      <th>Dialogue_length</th>\n",
              "    </tr>\n",
              "  </thead>\n",
              "  <tbody>\n",
              "    <tr>\n",
              "      <th>0</th>\n",
              "      <td>Hey.</td>\n",
              "      <td>joey</td>\n",
              "      <td>Season-07 Episode-13-The One Where Rosita Dies</td>\n",
              "      <td>Friends</td>\n",
              "      <td>1</td>\n",
              "    </tr>\n",
              "    <tr>\n",
              "      <th>1</th>\n",
              "      <td>(to Joey) Are you gonna be embarrassed going ...</td>\n",
              "      <td>phoebe</td>\n",
              "      <td>Season-10 Episode-04-The One With The Cake</td>\n",
              "      <td>Friends</td>\n",
              "      <td>13</td>\n",
              "    </tr>\n",
              "    <tr>\n",
              "      <th>2</th>\n",
              "      <td>Me? No no no, you. You're gonna tell him. I'm ...</td>\n",
              "      <td>elaine</td>\n",
              "      <td>S03E22</td>\n",
              "      <td>Seinfeld</td>\n",
              "      <td>14</td>\n",
              "    </tr>\n",
              "    <tr>\n",
              "      <th>3</th>\n",
              "      <td>Alright you guys are off to party number one ...</td>\n",
              "      <td>chandler</td>\n",
              "      <td>Season-02 Episode-22-The One With the Two Parties</td>\n",
              "      <td>Friends</td>\n",
              "      <td>56</td>\n",
              "    </tr>\n",
              "    <tr>\n",
              "      <th>4</th>\n",
              "      <td>Am I? Or am I so sane that you just blew your ...</td>\n",
              "      <td>kramer</td>\n",
              "      <td>S05E12</td>\n",
              "      <td>Seinfeld</td>\n",
              "      <td>13</td>\n",
              "    </tr>\n",
              "    <tr>\n",
              "      <th>...</th>\n",
              "      <td>...</td>\n",
              "      <td>...</td>\n",
              "      <td>...</td>\n",
              "      <td>...</td>\n",
              "      <td>...</td>\n",
              "    </tr>\n",
              "    <tr>\n",
              "      <th>70400</th>\n",
              "      <td>Pretty much.</td>\n",
              "      <td>jerry</td>\n",
              "      <td>S05E09</td>\n",
              "      <td>Seinfeld</td>\n",
              "      <td>2</td>\n",
              "    </tr>\n",
              "    <tr>\n",
              "      <th>70401</th>\n",
              "      <td>Oh, well um, not right now. Y'know I’m just g...</td>\n",
              "      <td>phoebe</td>\n",
              "      <td>Season-03 Episode-05-The One With Frank Jr.</td>\n",
              "      <td>Friends</td>\n",
              "      <td>22</td>\n",
              "    </tr>\n",
              "    <tr>\n",
              "      <th>70402</th>\n",
              "      <td>Ooh, I think I wanna trade circles.</td>\n",
              "      <td>phoebe</td>\n",
              "      <td>Season-07 Episode-22-The One With Chandler’s Dad</td>\n",
              "      <td>Friends</td>\n",
              "      <td>7</td>\n",
              "    </tr>\n",
              "    <tr>\n",
              "      <th>70403</th>\n",
              "      <td>Hey, hey, what is this? What's going on here?</td>\n",
              "      <td>jerry</td>\n",
              "      <td>S05E03</td>\n",
              "      <td>Seinfeld</td>\n",
              "      <td>9</td>\n",
              "    </tr>\n",
              "    <tr>\n",
              "      <th>70404</th>\n",
              "      <td>I want the massage!</td>\n",
              "      <td>jerry</td>\n",
              "      <td>S05E09</td>\n",
              "      <td>Seinfeld</td>\n",
              "      <td>4</td>\n",
              "    </tr>\n",
              "  </tbody>\n",
              "</table>\n",
              "<p>70405 rows × 5 columns</p>\n",
              "</div>\n",
              "      <button class=\"colab-df-convert\" onclick=\"convertToInteractive('df-6b8b02ce-483c-4d0e-8128-27036fa1378e')\"\n",
              "              title=\"Convert this dataframe to an interactive table.\"\n",
              "              style=\"display:none;\">\n",
              "        \n",
              "  <svg xmlns=\"http://www.w3.org/2000/svg\" height=\"24px\"viewBox=\"0 0 24 24\"\n",
              "       width=\"24px\">\n",
              "    <path d=\"M0 0h24v24H0V0z\" fill=\"none\"/>\n",
              "    <path d=\"M18.56 5.44l.94 2.06.94-2.06 2.06-.94-2.06-.94-.94-2.06-.94 2.06-2.06.94zm-11 1L8.5 8.5l.94-2.06 2.06-.94-2.06-.94L8.5 2.5l-.94 2.06-2.06.94zm10 10l.94 2.06.94-2.06 2.06-.94-2.06-.94-.94-2.06-.94 2.06-2.06.94z\"/><path d=\"M17.41 7.96l-1.37-1.37c-.4-.4-.92-.59-1.43-.59-.52 0-1.04.2-1.43.59L10.3 9.45l-7.72 7.72c-.78.78-.78 2.05 0 2.83L4 21.41c.39.39.9.59 1.41.59.51 0 1.02-.2 1.41-.59l7.78-7.78 2.81-2.81c.8-.78.8-2.07 0-2.86zM5.41 20L4 18.59l7.72-7.72 1.47 1.35L5.41 20z\"/>\n",
              "  </svg>\n",
              "      </button>\n",
              "      \n",
              "  <style>\n",
              "    .colab-df-container {\n",
              "      display:flex;\n",
              "      flex-wrap:wrap;\n",
              "      gap: 12px;\n",
              "    }\n",
              "\n",
              "    .colab-df-convert {\n",
              "      background-color: #E8F0FE;\n",
              "      border: none;\n",
              "      border-radius: 50%;\n",
              "      cursor: pointer;\n",
              "      display: none;\n",
              "      fill: #1967D2;\n",
              "      height: 32px;\n",
              "      padding: 0 0 0 0;\n",
              "      width: 32px;\n",
              "    }\n",
              "\n",
              "    .colab-df-convert:hover {\n",
              "      background-color: #E2EBFA;\n",
              "      box-shadow: 0px 1px 2px rgba(60, 64, 67, 0.3), 0px 1px 3px 1px rgba(60, 64, 67, 0.15);\n",
              "      fill: #174EA6;\n",
              "    }\n",
              "\n",
              "    [theme=dark] .colab-df-convert {\n",
              "      background-color: #3B4455;\n",
              "      fill: #D2E3FC;\n",
              "    }\n",
              "\n",
              "    [theme=dark] .colab-df-convert:hover {\n",
              "      background-color: #434B5C;\n",
              "      box-shadow: 0px 1px 3px 1px rgba(0, 0, 0, 0.15);\n",
              "      filter: drop-shadow(0px 1px 2px rgba(0, 0, 0, 0.3));\n",
              "      fill: #FFFFFF;\n",
              "    }\n",
              "  </style>\n",
              "\n",
              "      <script>\n",
              "        const buttonEl =\n",
              "          document.querySelector('#df-6b8b02ce-483c-4d0e-8128-27036fa1378e button.colab-df-convert');\n",
              "        buttonEl.style.display =\n",
              "          google.colab.kernel.accessAllowed ? 'block' : 'none';\n",
              "\n",
              "        async function convertToInteractive(key) {\n",
              "          const element = document.querySelector('#df-6b8b02ce-483c-4d0e-8128-27036fa1378e');\n",
              "          const dataTable =\n",
              "            await google.colab.kernel.invokeFunction('convertToInteractive',\n",
              "                                                     [key], {});\n",
              "          if (!dataTable) return;\n",
              "\n",
              "          const docLinkHtml = 'Like what you see? Visit the ' +\n",
              "            '<a target=\"_blank\" href=https://colab.research.google.com/notebooks/data_table.ipynb>data table notebook</a>'\n",
              "            + ' to learn more about interactive tables.';\n",
              "          element.innerHTML = '';\n",
              "          dataTable['output_type'] = 'display_data';\n",
              "          await google.colab.output.renderOutput(dataTable, element);\n",
              "          const docLink = document.createElement('div');\n",
              "          docLink.innerHTML = docLinkHtml;\n",
              "          element.appendChild(docLink);\n",
              "        }\n",
              "      </script>\n",
              "    </div>\n",
              "  </div>\n",
              "  "
            ],
            "text/plain": [
              "                                                Dialogue Character  \\\n",
              "0                                                   Hey.      joey   \n",
              "1       (to Joey) Are you gonna be embarrassed going ...    phoebe   \n",
              "2      Me? No no no, you. You're gonna tell him. I'm ...    elaine   \n",
              "3       Alright you guys are off to party number one ...  chandler   \n",
              "4      Am I? Or am I so sane that you just blew your ...    kramer   \n",
              "...                                                  ...       ...   \n",
              "70400                                       Pretty much.     jerry   \n",
              "70401   Oh, well um, not right now. Y'know I’m just g...    phoebe   \n",
              "70402                Ooh, I think I wanna trade circles.    phoebe   \n",
              "70403      Hey, hey, what is this? What's going on here?     jerry   \n",
              "70404                                I want the massage!     jerry   \n",
              "\n",
              "                                                 Episode      Show  \\\n",
              "0         Season-07 Episode-13-The One Where Rosita Dies   Friends   \n",
              "1             Season-10 Episode-04-The One With The Cake   Friends   \n",
              "2                                                 S03E22  Seinfeld   \n",
              "3      Season-02 Episode-22-The One With the Two Parties   Friends   \n",
              "4                                                 S05E12  Seinfeld   \n",
              "...                                                  ...       ...   \n",
              "70400                                             S05E09  Seinfeld   \n",
              "70401        Season-03 Episode-05-The One With Frank Jr.   Friends   \n",
              "70402   Season-07 Episode-22-The One With Chandler’s Dad   Friends   \n",
              "70403                                             S05E03  Seinfeld   \n",
              "70404                                             S05E09  Seinfeld   \n",
              "\n",
              "       Dialogue_length  \n",
              "0                    1  \n",
              "1                   13  \n",
              "2                   14  \n",
              "3                   56  \n",
              "4                   13  \n",
              "...                ...  \n",
              "70400                2  \n",
              "70401               22  \n",
              "70402                7  \n",
              "70403                9  \n",
              "70404                4  \n",
              "\n",
              "[70405 rows x 5 columns]"
            ]
          },
          "execution_count": 4,
          "metadata": {},
          "output_type": "execute_result"
        }
      ],
      "source": [
        "train_df"
      ]
    },
    {
      "cell_type": "markdown",
      "metadata": {
        "id": "zpWj21YCfKLQ"
      },
      "source": [
        "We can see that the text includes director remarks which we will have to handle in the preprocessing."
      ]
    },
    {
      "cell_type": "code",
      "execution_count": null,
      "metadata": {
        "colab": {
          "base_uri": "https://localhost:8080/",
          "height": 519
        },
        "id": "aWxdTMblet3A",
        "outputId": "87e57da9-bc68-48ce-9ecd-f041d1baea09"
      },
      "outputs": [
        {
          "data": {
            "text/html": [
              "\n",
              "  <div id=\"df-7b479d02-8081-42f6-8001-43db629b758e\">\n",
              "    <div class=\"colab-df-container\">\n",
              "      <div>\n",
              "<style scoped>\n",
              "    .dataframe tbody tr th:only-of-type {\n",
              "        vertical-align: middle;\n",
              "    }\n",
              "\n",
              "    .dataframe tbody tr th {\n",
              "        vertical-align: top;\n",
              "    }\n",
              "\n",
              "    .dataframe thead th {\n",
              "        text-align: right;\n",
              "    }\n",
              "</style>\n",
              "<table border=\"1\" class=\"dataframe\">\n",
              "  <thead>\n",
              "    <tr style=\"text-align: right;\">\n",
              "      <th></th>\n",
              "      <th>Dialogue</th>\n",
              "      <th>Character</th>\n",
              "      <th>Episode</th>\n",
              "      <th>Show</th>\n",
              "      <th>Dialogue_length</th>\n",
              "    </tr>\n",
              "  </thead>\n",
              "  <tbody>\n",
              "    <tr>\n",
              "      <th>0</th>\n",
              "      <td>Hey.</td>\n",
              "      <td>joey</td>\n",
              "      <td>Season-07 Episode-13-The One Where Rosita Dies</td>\n",
              "      <td>Friends</td>\n",
              "      <td>1</td>\n",
              "    </tr>\n",
              "    <tr>\n",
              "      <th>1</th>\n",
              "      <td>(to Joey) Are you gonna be embarrassed going ...</td>\n",
              "      <td>phoebe</td>\n",
              "      <td>Season-10 Episode-04-The One With The Cake</td>\n",
              "      <td>Friends</td>\n",
              "      <td>13</td>\n",
              "    </tr>\n",
              "    <tr>\n",
              "      <th>2</th>\n",
              "      <td>Me? No no no, you. You're gonna tell him. I'm ...</td>\n",
              "      <td>elaine</td>\n",
              "      <td>S03E22</td>\n",
              "      <td>Seinfeld</td>\n",
              "      <td>14</td>\n",
              "    </tr>\n",
              "    <tr>\n",
              "      <th>3</th>\n",
              "      <td>Alright you guys are off to party number one ...</td>\n",
              "      <td>chandler</td>\n",
              "      <td>Season-02 Episode-22-The One With the Two Parties</td>\n",
              "      <td>Friends</td>\n",
              "      <td>56</td>\n",
              "    </tr>\n",
              "    <tr>\n",
              "      <th>4</th>\n",
              "      <td>Am I? Or am I so sane that you just blew your ...</td>\n",
              "      <td>kramer</td>\n",
              "      <td>S05E12</td>\n",
              "      <td>Seinfeld</td>\n",
              "      <td>13</td>\n",
              "    </tr>\n",
              "    <tr>\n",
              "      <th>5</th>\n",
              "      <td>So, if you’re parents hadn’t got divorced, yo...</td>\n",
              "      <td>monica</td>\n",
              "      <td>Season-03 Episode-17-The One Without The Ski Trip</td>\n",
              "      <td>Friends</td>\n",
              "      <td>18</td>\n",
              "    </tr>\n",
              "    <tr>\n",
              "      <th>6</th>\n",
              "      <td>What's up?</td>\n",
              "      <td>ross</td>\n",
              "      <td>Season-05 Episode-18-The One Where Rachel Smokes</td>\n",
              "      <td>Friends</td>\n",
              "      <td>2</td>\n",
              "    </tr>\n",
              "    <tr>\n",
              "      <th>7</th>\n",
              "      <td>(over-enthusiastic) I don't know, I don' I do...</td>\n",
              "      <td>chandler</td>\n",
              "      <td>Season-09 Episode-15-The One With The Mugging</td>\n",
              "      <td>Friends</td>\n",
              "      <td>27</td>\n",
              "    </tr>\n",
              "    <tr>\n",
              "      <th>8</th>\n",
              "      <td>I know. *He* always wanted to be the first bl...</td>\n",
              "      <td>chandler</td>\n",
              "      <td>Season-10 Episode-15-The One Where Estelle Dies</td>\n",
              "      <td>Friends</td>\n",
              "      <td>15</td>\n",
              "    </tr>\n",
              "    <tr>\n",
              "      <th>9</th>\n",
              "      <td>This uniform, what's it made from?</td>\n",
              "      <td>george</td>\n",
              "      <td>S06E01</td>\n",
              "      <td>Seinfeld</td>\n",
              "      <td>6</td>\n",
              "    </tr>\n",
              "    <tr>\n",
              "      <th>10</th>\n",
              "      <td>(gets up and opens the door) Hi Tag! What are...</td>\n",
              "      <td>rachel</td>\n",
              "      <td>Season-07 Episode-08-The One Where Chandler Do...</td>\n",
              "      <td>Friends</td>\n",
              "      <td>13</td>\n",
              "    </tr>\n",
              "    <tr>\n",
              "      <th>11</th>\n",
              "      <td>Forty-five minutes? We have tickets to the Mu...</td>\n",
              "      <td>chandler</td>\n",
              "      <td>Season-07 Episode-10-The One With the Holiday ...</td>\n",
              "      <td>Friends</td>\n",
              "      <td>10</td>\n",
              "    </tr>\n",
              "    <tr>\n",
              "      <th>12</th>\n",
              "      <td>Finger sandwiches and tea.</td>\n",
              "      <td>phoebe</td>\n",
              "      <td>Season-07 Episode-19-The One With Ross and Mon...</td>\n",
              "      <td>Friends</td>\n",
              "      <td>4</td>\n",
              "    </tr>\n",
              "    <tr>\n",
              "      <th>13</th>\n",
              "      <td>Because there are so many terrible sights in ...</td>\n",
              "      <td>monica</td>\n",
              "      <td>Season-10 Episode-05-The One Where Rachel's Si...</td>\n",
              "      <td>Friends</td>\n",
              "      <td>10</td>\n",
              "    </tr>\n",
              "    <tr>\n",
              "      <th>14</th>\n",
              "      <td>(flexing his fingers) Sorry. My hand is numb.</td>\n",
              "      <td>jerry</td>\n",
              "      <td>S08E07</td>\n",
              "      <td>Seinfeld</td>\n",
              "      <td>8</td>\n",
              "    </tr>\n",
              "  </tbody>\n",
              "</table>\n",
              "</div>\n",
              "      <button class=\"colab-df-convert\" onclick=\"convertToInteractive('df-7b479d02-8081-42f6-8001-43db629b758e')\"\n",
              "              title=\"Convert this dataframe to an interactive table.\"\n",
              "              style=\"display:none;\">\n",
              "        \n",
              "  <svg xmlns=\"http://www.w3.org/2000/svg\" height=\"24px\"viewBox=\"0 0 24 24\"\n",
              "       width=\"24px\">\n",
              "    <path d=\"M0 0h24v24H0V0z\" fill=\"none\"/>\n",
              "    <path d=\"M18.56 5.44l.94 2.06.94-2.06 2.06-.94-2.06-.94-.94-2.06-.94 2.06-2.06.94zm-11 1L8.5 8.5l.94-2.06 2.06-.94-2.06-.94L8.5 2.5l-.94 2.06-2.06.94zm10 10l.94 2.06.94-2.06 2.06-.94-2.06-.94-.94-2.06-.94 2.06-2.06.94z\"/><path d=\"M17.41 7.96l-1.37-1.37c-.4-.4-.92-.59-1.43-.59-.52 0-1.04.2-1.43.59L10.3 9.45l-7.72 7.72c-.78.78-.78 2.05 0 2.83L4 21.41c.39.39.9.59 1.41.59.51 0 1.02-.2 1.41-.59l7.78-7.78 2.81-2.81c.8-.78.8-2.07 0-2.86zM5.41 20L4 18.59l7.72-7.72 1.47 1.35L5.41 20z\"/>\n",
              "  </svg>\n",
              "      </button>\n",
              "      \n",
              "  <style>\n",
              "    .colab-df-container {\n",
              "      display:flex;\n",
              "      flex-wrap:wrap;\n",
              "      gap: 12px;\n",
              "    }\n",
              "\n",
              "    .colab-df-convert {\n",
              "      background-color: #E8F0FE;\n",
              "      border: none;\n",
              "      border-radius: 50%;\n",
              "      cursor: pointer;\n",
              "      display: none;\n",
              "      fill: #1967D2;\n",
              "      height: 32px;\n",
              "      padding: 0 0 0 0;\n",
              "      width: 32px;\n",
              "    }\n",
              "\n",
              "    .colab-df-convert:hover {\n",
              "      background-color: #E2EBFA;\n",
              "      box-shadow: 0px 1px 2px rgba(60, 64, 67, 0.3), 0px 1px 3px 1px rgba(60, 64, 67, 0.15);\n",
              "      fill: #174EA6;\n",
              "    }\n",
              "\n",
              "    [theme=dark] .colab-df-convert {\n",
              "      background-color: #3B4455;\n",
              "      fill: #D2E3FC;\n",
              "    }\n",
              "\n",
              "    [theme=dark] .colab-df-convert:hover {\n",
              "      background-color: #434B5C;\n",
              "      box-shadow: 0px 1px 3px 1px rgba(0, 0, 0, 0.15);\n",
              "      filter: drop-shadow(0px 1px 2px rgba(0, 0, 0, 0.3));\n",
              "      fill: #FFFFFF;\n",
              "    }\n",
              "  </style>\n",
              "\n",
              "      <script>\n",
              "        const buttonEl =\n",
              "          document.querySelector('#df-7b479d02-8081-42f6-8001-43db629b758e button.colab-df-convert');\n",
              "        buttonEl.style.display =\n",
              "          google.colab.kernel.accessAllowed ? 'block' : 'none';\n",
              "\n",
              "        async function convertToInteractive(key) {\n",
              "          const element = document.querySelector('#df-7b479d02-8081-42f6-8001-43db629b758e');\n",
              "          const dataTable =\n",
              "            await google.colab.kernel.invokeFunction('convertToInteractive',\n",
              "                                                     [key], {});\n",
              "          if (!dataTable) return;\n",
              "\n",
              "          const docLinkHtml = 'Like what you see? Visit the ' +\n",
              "            '<a target=\"_blank\" href=https://colab.research.google.com/notebooks/data_table.ipynb>data table notebook</a>'\n",
              "            + ' to learn more about interactive tables.';\n",
              "          element.innerHTML = '';\n",
              "          dataTable['output_type'] = 'display_data';\n",
              "          await google.colab.output.renderOutput(dataTable, element);\n",
              "          const docLink = document.createElement('div');\n",
              "          docLink.innerHTML = docLinkHtml;\n",
              "          element.appendChild(docLink);\n",
              "        }\n",
              "      </script>\n",
              "    </div>\n",
              "  </div>\n",
              "  "
            ],
            "text/plain": [
              "                                             Dialogue Character  \\\n",
              "0                                                Hey.      joey   \n",
              "1    (to Joey) Are you gonna be embarrassed going ...    phoebe   \n",
              "2   Me? No no no, you. You're gonna tell him. I'm ...    elaine   \n",
              "3    Alright you guys are off to party number one ...  chandler   \n",
              "4   Am I? Or am I so sane that you just blew your ...    kramer   \n",
              "5    So, if you’re parents hadn’t got divorced, yo...    monica   \n",
              "6                                          What's up?      ross   \n",
              "7    (over-enthusiastic) I don't know, I don' I do...  chandler   \n",
              "8    I know. *He* always wanted to be the first bl...  chandler   \n",
              "9                  This uniform, what's it made from?    george   \n",
              "10   (gets up and opens the door) Hi Tag! What are...    rachel   \n",
              "11   Forty-five minutes? We have tickets to the Mu...  chandler   \n",
              "12                         Finger sandwiches and tea.    phoebe   \n",
              "13   Because there are so many terrible sights in ...    monica   \n",
              "14      (flexing his fingers) Sorry. My hand is numb.     jerry   \n",
              "\n",
              "                                              Episode      Show  \\\n",
              "0      Season-07 Episode-13-The One Where Rosita Dies   Friends   \n",
              "1          Season-10 Episode-04-The One With The Cake   Friends   \n",
              "2                                              S03E22  Seinfeld   \n",
              "3   Season-02 Episode-22-The One With the Two Parties   Friends   \n",
              "4                                              S05E12  Seinfeld   \n",
              "5   Season-03 Episode-17-The One Without The Ski Trip   Friends   \n",
              "6    Season-05 Episode-18-The One Where Rachel Smokes   Friends   \n",
              "7       Season-09 Episode-15-The One With The Mugging   Friends   \n",
              "8     Season-10 Episode-15-The One Where Estelle Dies   Friends   \n",
              "9                                              S06E01  Seinfeld   \n",
              "10  Season-07 Episode-08-The One Where Chandler Do...   Friends   \n",
              "11  Season-07 Episode-10-The One With the Holiday ...   Friends   \n",
              "12  Season-07 Episode-19-The One With Ross and Mon...   Friends   \n",
              "13  Season-10 Episode-05-The One Where Rachel's Si...   Friends   \n",
              "14                                             S08E07  Seinfeld   \n",
              "\n",
              "    Dialogue_length  \n",
              "0                 1  \n",
              "1                13  \n",
              "2                14  \n",
              "3                56  \n",
              "4                13  \n",
              "5                18  \n",
              "6                 2  \n",
              "7                27  \n",
              "8                15  \n",
              "9                 6  \n",
              "10               13  \n",
              "11               10  \n",
              "12                4  \n",
              "13               10  \n",
              "14                8  "
            ]
          },
          "execution_count": 5,
          "metadata": {},
          "output_type": "execute_result"
        }
      ],
      "source": [
        "train_df[:15]"
      ]
    },
    {
      "cell_type": "markdown",
      "metadata": {
        "id": "BcfUvR0_dNHL"
      },
      "source": [
        "Let's check if the classes are evenly distributed:"
      ]
    },
    {
      "cell_type": "code",
      "execution_count": null,
      "metadata": {
        "colab": {
          "base_uri": "https://localhost:8080/"
        },
        "id": "-4FIe-_4dMqj",
        "outputId": "5ad6ec4c-52ed-4b61-80a0-5b6353f0e025"
      },
      "outputs": [
        {
          "data": {
            "text/plain": [
              "Friends     39092\n",
              "Seinfeld    31313\n",
              "Name: Show, dtype: int64"
            ]
          },
          "execution_count": 6,
          "metadata": {},
          "output_type": "execute_result"
        }
      ],
      "source": [
        "train_df['Show'].value_counts()\n"
      ]
    },
    {
      "cell_type": "code",
      "execution_count": null,
      "metadata": {
        "colab": {
          "base_uri": "https://localhost:8080/"
        },
        "id": "VkDhbk2Rd5vU",
        "outputId": "426d0cf9-901e-4fbf-b330-670a4f68af72"
      },
      "outputs": [
        {
          "data": {
            "text/plain": [
              "Friends     2596\n",
              "Seinfeld    1649\n",
              "Name: Show, dtype: int64"
            ]
          },
          "execution_count": 7,
          "metadata": {},
          "output_type": "execute_result"
        }
      ],
      "source": [
        "test_df['Show'].value_counts()"
      ]
    },
    {
      "cell_type": "markdown",
      "metadata": {
        "id": "AYxiwTN-xF7m"
      },
      "source": [
        "We can see that the majority of characters belong to Friends (6 out of 10)."
      ]
    },
    {
      "cell_type": "code",
      "execution_count": null,
      "metadata": {
        "colab": {
          "base_uri": "https://localhost:8080/"
        },
        "id": "FYjvtgIcv4Fs",
        "outputId": "51126efe-646d-4663-ff5f-5b2ca18a0dd5"
      },
      "outputs": [
        {
          "name": "stdout",
          "output_type": "stream",
          "text": [
            "Show\n",
            "Friends     6\n",
            "Seinfeld    4\n",
            "Name: Character, dtype: int64\n"
          ]
        }
      ],
      "source": [
        "print (train_df.groupby('Show')['Character'].nunique())"
      ]
    },
    {
      "cell_type": "markdown",
      "metadata": {
        "id": "bDclskiTdn_2"
      },
      "source": [
        "Let's look at one example:"
      ]
    },
    {
      "cell_type": "code",
      "execution_count": null,
      "metadata": {
        "colab": {
          "base_uri": "https://localhost:8080/",
          "height": 36
        },
        "id": "NFZcYJb4drFz",
        "outputId": "f8b29542-4fa9-4682-d742-95713c27f2e9"
      },
      "outputs": [
        {
          "data": {
            "application/vnd.google.colaboratory.intrinsic+json": {
              "type": "string"
            },
            "text/plain": [
              "' (to Joey) Are you gonna be embarrassed going up there having nothing prepared?'"
            ]
          },
          "execution_count": 9,
          "metadata": {},
          "output_type": "execute_result"
        }
      ],
      "source": [
        "train_df.iloc[1, 0]"
      ]
    },
    {
      "cell_type": "markdown",
      "metadata": {
        "id": "NAXWT54-eIMV"
      },
      "source": [
        "\n",
        "# Data preprocessing"
      ]
    },
    {
      "cell_type": "markdown",
      "metadata": {
        "id": "M_6wOimteL9b"
      },
      "source": [
        "**Cleaning the data**"
      ]
    },
    {
      "cell_type": "code",
      "execution_count": null,
      "metadata": {
        "id": "ZIv1WjXaeItj"
      },
      "outputs": [],
      "source": [
        "# Removing the square brackets\n",
        "def remove_between_square_brackets(text):\n",
        "    return re.sub('\\[[^]]*\\]', '', text)\n",
        "\n",
        "# Removing the noisy text\n",
        "def clean_text(text):\n",
        "    text = remove_between_square_brackets(text)\n",
        "    return text\n",
        "\n",
        "# Apply function on Dialogue column\n",
        "train_df['Dialogue'] = train_df['Dialogue'].apply(clean_text)\n",
        "test_df['Dialogue'] = test_df['Dialogue'].apply(clean_text)"
      ]
    },
    {
      "cell_type": "code",
      "execution_count": null,
      "metadata": {
        "colab": {
          "base_uri": "https://localhost:8080/",
          "height": 36
        },
        "id": "1TY13eFlfdAn",
        "outputId": "f08cb947-6f68-4db9-d97e-264eaba43ff2"
      },
      "outputs": [
        {
          "data": {
            "application/vnd.google.colaboratory.intrinsic+json": {
              "type": "string"
            },
            "text/plain": [
              "' (to Joey) Are you gonna be embarrassed going up there having nothing prepared?'"
            ]
          },
          "execution_count": 11,
          "metadata": {},
          "output_type": "execute_result"
        }
      ],
      "source": [
        "train_df.iloc[1, 0]"
      ]
    },
    {
      "cell_type": "markdown",
      "metadata": {
        "id": "s206Du8lgAUE"
      },
      "source": [
        "We will remove the director's notes as they are not part of the text:"
      ]
    },
    {
      "cell_type": "code",
      "execution_count": null,
      "metadata": {
        "id": "n70mw4mYf_mS"
      },
      "outputs": [],
      "source": [
        "# removing notes\n",
        "def remove_notes(text):\n",
        "  return re.sub('\\(.*?\\)','()', text)\n",
        "\n",
        "# Removing the noisy text\n",
        "def clean_text_notes(text):\n",
        "    text = remove_notes(text)\n",
        "    return text\n",
        "\n",
        "\n",
        "# Apply function on Dialogue column\n",
        "train_df['Dialogue'] = train_df['Dialogue'].apply(clean_text_notes)\n",
        "test_df['Dialogue'] = test_df['Dialogue'].apply(clean_text_notes)"
      ]
    },
    {
      "cell_type": "code",
      "execution_count": null,
      "metadata": {
        "colab": {
          "base_uri": "https://localhost:8080/",
          "height": 36
        },
        "id": "Djw0WepFhe7w",
        "outputId": "bc63e234-27ab-43ef-8b91-d5c03c5d0578"
      },
      "outputs": [
        {
          "data": {
            "application/vnd.google.colaboratory.intrinsic+json": {
              "type": "string"
            },
            "text/plain": [
              "' () Are you gonna be embarrassed going up there having nothing prepared?'"
            ]
          },
          "execution_count": 13,
          "metadata": {},
          "output_type": "execute_result"
        }
      ],
      "source": [
        "train_df.iloc[1,0]"
      ]
    },
    {
      "cell_type": "markdown",
      "metadata": {
        "id": "wWF-NylJft1F"
      },
      "source": [
        "Let's also remove special characters:"
      ]
    },
    {
      "cell_type": "code",
      "execution_count": null,
      "metadata": {
        "id": "dYwEm-6kfvqG"
      },
      "outputs": [],
      "source": [
        "# Define function for removing special characters\n",
        "def remove_special_characters(text):\n",
        "    pattern = r'[^a-zA-Z0-9\\s]'\n",
        "    text = re.sub(pattern,'',text)\n",
        "    return text\n",
        "\n",
        "# Apply function on Dialogue column\n",
        "train_df['Dialogue'] = train_df['Dialogue'].apply(remove_special_characters)\n",
        "test_df['Dialogue'] = test_df['Dialogue'].apply(remove_special_characters)"
      ]
    },
    {
      "cell_type": "code",
      "execution_count": null,
      "metadata": {
        "colab": {
          "base_uri": "https://localhost:8080/",
          "height": 36
        },
        "id": "HaUX_Gf0fx7X",
        "outputId": "9eb0377b-035b-4f33-fc53-b982d46a7d13"
      },
      "outputs": [
        {
          "data": {
            "application/vnd.google.colaboratory.intrinsic+json": {
              "type": "string"
            },
            "text/plain": [
              "'  Are you gonna be embarrassed going up there having nothing prepared'"
            ]
          },
          "execution_count": 15,
          "metadata": {},
          "output_type": "execute_result"
        }
      ],
      "source": [
        "train_df.iloc[1, 0]"
      ]
    },
    {
      "cell_type": "markdown",
      "metadata": {
        "id": "SDLX9-QRgiRu"
      },
      "source": [
        "Removing stop words"
      ]
    },
    {
      "cell_type": "code",
      "execution_count": null,
      "metadata": {
        "colab": {
          "base_uri": "https://localhost:8080/"
        },
        "id": "XutqrevJgp5U",
        "outputId": "85f20bd1-869d-42b9-a4aa-ad1512c5f59d"
      },
      "outputs": [
        {
          "name": "stdout",
          "output_type": "stream",
          "text": [
            "Number of English stop words: 179\n",
            "The first 10 stopwords are: ['i', 'me', 'my', 'myself', 'we', 'our', 'ours', 'ourselves', 'you', \"you're\"]\n"
          ]
        },
        {
          "name": "stderr",
          "output_type": "stream",
          "text": [
            "[nltk_data] Downloading package stopwords to /root/nltk_data...\n",
            "[nltk_data]   Unzipping corpora/stopwords.zip.\n"
          ]
        }
      ],
      "source": [
        "nltk.download('stopwords')\n",
        "stopword_list = nltk.corpus.stopwords.words('english')\n",
        "print('Number of English stop words:', len(stopword_list))\n",
        "print(\"The first 10 stopwords are: \" + str(stopword_list[:10]))"
      ]
    },
    {
      "cell_type": "code",
      "execution_count": null,
      "metadata": {
        "id": "CJP8oIwngsWo"
      },
      "outputs": [],
      "source": [
        "tokenizer = ToktokTokenizer()"
      ]
    },
    {
      "cell_type": "code",
      "execution_count": null,
      "metadata": {
        "colab": {
          "base_uri": "https://localhost:8080/",
          "height": 81,
          "referenced_widgets": [
            "4145673f83b74a3381a7210e3b43a6b5",
            "c55e8cc1168c403d85c10198c324070b",
            "face6ec7ed0b41de9653293e44b14d5f",
            "b7e59d0c9fd04631a5982531377cabba",
            "a9bf4270903847ef94706855461dc9cf",
            "36dcf6bc8c5a4423b286e7ebb96738ff",
            "e4ed09fefdbb41c69a5883fa5d284901",
            "c0776d564a7c4924856e403ac97f46cd",
            "413857b42e0548c59184c478bc16e709",
            "f2e5d02e76f04bdc93e7666232b7640b",
            "3459c0e791a949078e0e295af9a83f11",
            "743540abb28f4a8cbf33921afec71c09",
            "9746683de5324b3da8439b5a360ff3e6",
            "061e0350e2f84fbe83c8e53a5360c619",
            "bc8ecb7b3cab4022b0bde5c03ac8c55d",
            "33c303c171be4c38bd5ddb1a3f3054d0",
            "71ab44fe1653480899e9b33b9f36951e",
            "61a27007b7c44b6abe48ff65029c3aaf",
            "c9ff2e2c86d0445391050ffdea677e03",
            "46b39e24e4c44a9185a38202e9ab425c",
            "6004613c805040eeacd47b2fee669455",
            "b301ff0c96934561bd2bd265061bc41c"
          ]
        },
        "id": "PcvduBuxgyvW",
        "outputId": "9d198080-1d81-4938-f934-4fa7b09ed5fa"
      },
      "outputs": [
        {
          "data": {
            "application/vnd.jupyter.widget-view+json": {
              "model_id": "4145673f83b74a3381a7210e3b43a6b5",
              "version_major": 2,
              "version_minor": 0
            },
            "text/plain": [
              "  0%|          | 0/70405 [00:00<?, ?it/s]"
            ]
          },
          "metadata": {},
          "output_type": "display_data"
        },
        {
          "data": {
            "application/vnd.jupyter.widget-view+json": {
              "model_id": "743540abb28f4a8cbf33921afec71c09",
              "version_major": 2,
              "version_minor": 0
            },
            "text/plain": [
              "  0%|          | 0/4245 [00:00<?, ?it/s]"
            ]
          },
          "metadata": {},
          "output_type": "display_data"
        }
      ],
      "source": [
        "# Removing the stopwords\n",
        "def remove_stopwords(text, is_lower_case=False):\n",
        "    tokens = tokenizer.tokenize(text)\n",
        "    tokens = [token.strip() for token in tokens]\n",
        "    if is_lower_case:\n",
        "        filtered_tokens = [token for token in tokens if token not in stopword_list]\n",
        "    else:\n",
        "        filtered_tokens = [token for token in tokens if token.lower() not in stopword_list]\n",
        "    filtered_text = ' '.join(filtered_tokens)\n",
        "    return filtered_text\n",
        "\n",
        "# Apply function on Dialogue column\n",
        "train_df['Dialogue'] = train_df['Dialogue'].progress_apply(remove_stopwords)\n",
        "test_df['Dialogue'] = test_df['Dialogue'].progress_apply(remove_stopwords)\n"
      ]
    },
    {
      "cell_type": "markdown",
      "metadata": {
        "id": "Z3wNHe2ehFFQ"
      },
      "source": [
        "Stemming"
      ]
    },
    {
      "cell_type": "code",
      "execution_count": null,
      "metadata": {
        "colab": {
          "base_uri": "https://localhost:8080/",
          "height": 81,
          "referenced_widgets": [
            "a242237e0ced49438d0b028c79e45cdc",
            "a67be6c020f7430e97eb6ed8bade5809",
            "099fac5465dd4b8a9d159ac490aa9e80",
            "bd99be50e01a4f2cbc150e07d5e9fd0a",
            "d84e1f480e3947ac972e022e6f9ad4f4",
            "0ebc0e5198554833854dcee32336a7b5",
            "ec20eb197f0a497a9effe40a875d23c7",
            "07294280791a4338827a4e8a367942cd",
            "1c1982e9485d46a494da92345d526de1",
            "0a3a0901e0ec48c1bb82da8406fc2d54",
            "575f4a91ce1b49f3bf4721b5038b1a20",
            "15958e4a05ad4cf98b793099a8508902",
            "a8ac41e277ba4f7298d8e14c46498f8c",
            "70261bd0a2154f628a96f55e92247062",
            "73f79cb53eec4bb7a82affbb506477e6",
            "1ad6da0006f0474caa2d240ae94bc0d3",
            "d481d246ce7c4743b7e28c11fb965120",
            "bdc2d5a57aa24da3a6ee03226ce72371",
            "018d256820b64b5585fb47efc9ff72dd",
            "58a8fa2658734b679a7257124f82d54d",
            "fdc234e01c7b4882a70825bc262b2f2f",
            "d8aac9911e804eedbc8eaabb351f86e3"
          ]
        },
        "id": "TZWG0PqzhHQE",
        "outputId": "2320225b-91f4-497b-9627-a487ccaf01a5"
      },
      "outputs": [
        {
          "data": {
            "application/vnd.jupyter.widget-view+json": {
              "model_id": "a242237e0ced49438d0b028c79e45cdc",
              "version_major": 2,
              "version_minor": 0
            },
            "text/plain": [
              "  0%|          | 0/70405 [00:00<?, ?it/s]"
            ]
          },
          "metadata": {},
          "output_type": "display_data"
        },
        {
          "data": {
            "application/vnd.jupyter.widget-view+json": {
              "model_id": "15958e4a05ad4cf98b793099a8508902",
              "version_major": 2,
              "version_minor": 0
            },
            "text/plain": [
              "  0%|          | 0/4245 [00:00<?, ?it/s]"
            ]
          },
          "metadata": {},
          "output_type": "display_data"
        }
      ],
      "source": [
        "# Stemming the text\n",
        "def simple_stemmer(text):\n",
        "    ps = nltk.porter.PorterStemmer()\n",
        "    stemmed_words_list = []\n",
        "    text = ' '.join([ps.stem(word) for word in text.split()])\n",
        "    return text\n",
        "# Apply function on Dialogue column\n",
        "train_df['Dialogue'] = train_df['Dialogue'].progress_apply(simple_stemmer)\n",
        "test_df['Dialogue'] = test_df['Dialogue'].progress_apply(simple_stemmer)"
      ]
    },
    {
      "cell_type": "markdown",
      "metadata": {
        "id": "KiXokhWtF75p"
      },
      "source": [
        "Converting all thr data to lowercase"
      ]
    },
    {
      "cell_type": "code",
      "execution_count": null,
      "metadata": {
        "id": "yN2_n4yXGGcv"
      },
      "outputs": [],
      "source": [
        " train_df['Dialogue'] = train_df['Dialogue'].str.lower()\n",
        " test_df['Dialogue'] = test_df['Dialogue'].str.lower()\n"
      ]
    },
    {
      "cell_type": "code",
      "execution_count": null,
      "metadata": {
        "colab": {
          "base_uri": "https://localhost:8080/",
          "height": 36
        },
        "id": "k0NChlblHIhO",
        "outputId": "b6fb4fff-032f-4c2b-a513-530187f050cb"
      },
      "outputs": [
        {
          "data": {
            "application/vnd.google.colaboratory.intrinsic+json": {
              "type": "string"
            },
            "text/plain": [
              "'gonna embarrass go noth prepar'"
            ]
          },
          "execution_count": 21,
          "metadata": {},
          "output_type": "execute_result"
        }
      ],
      "source": [
        "train_df.iloc[1, 0]"
      ]
    },
    {
      "cell_type": "markdown",
      "metadata": {
        "id": "UikHD9dJcBvU"
      },
      "source": [
        "### Train-test-valdiation split"
      ]
    },
    {
      "cell_type": "code",
      "execution_count": null,
      "metadata": {
        "id": "CJArLo0lcBVO"
      },
      "outputs": [],
      "source": [
        "x_train = train_df['Dialogue']\n",
        "y_train = train_df['Show']\n",
        "\n",
        "x_test = test_df['Dialogue']\n",
        "y_test = test_df['Show']"
      ]
    },
    {
      "cell_type": "code",
      "execution_count": null,
      "metadata": {
        "id": "5-4ApD_pcy5_"
      },
      "outputs": [],
      "source": [
        "x_train, x_val, y_train, y_val = train_test_split(x_train, y_train, test_size=0.2, stratify=y_train, random_state=1234)"
      ]
    },
    {
      "cell_type": "markdown",
      "metadata": {
        "id": "76rhDSlPcKcs"
      },
      "source": [
        "We can also check that the distribution of our labels between test and train is not skewed toward one class:"
      ]
    },
    {
      "cell_type": "code",
      "execution_count": null,
      "metadata": {
        "colab": {
          "base_uri": "https://localhost:8080/"
        },
        "id": "eegs7U61cH1f",
        "outputId": "1f8b8111-18c7-4c0a-d116-b849d32fd095"
      },
      "outputs": [
        {
          "name": "stdout",
          "output_type": "stream",
          "text": [
            "Train negative to positive ratio: 1.2484630738522955\n",
            "Test negative to positive ratio: 1.5742874469375379\n"
          ]
        }
      ],
      "source": [
        "train_label_count = y_train.value_counts()\n",
        "test_label_count = y_test.value_counts()\n",
        "\n",
        "print('Train negative to positive ratio:', train_label_count['Friends'] / train_label_count['Seinfeld'])\n",
        "print('Test negative to positive ratio:', test_label_count['Friends'] / test_label_count['Seinfeld'])"
      ]
    },
    {
      "cell_type": "markdown",
      "metadata": {
        "id": "tSgVzDukh1vS"
      },
      "source": [
        "And verify our results:"
      ]
    },
    {
      "cell_type": "code",
      "execution_count": null,
      "metadata": {
        "colab": {
          "base_uri": "https://localhost:8080/"
        },
        "id": "exP-HDJdhrU4",
        "outputId": "2ba9fbeb-ea1d-4a37-805a-7ad027cfca4c"
      },
      "outputs": [
        {
          "name": "stdout",
          "output_type": "stream",
          "text": [
            "x_train shape: (56324,)\n",
            "y_train shape: (56324,)\n",
            "x_test shape: (4245,)\n",
            "y_test shape: (4245,)\n",
            "x_val shape: (14081,)\n",
            "y_val shape: (14081,)\n"
          ]
        }
      ],
      "source": [
        "print('x_train shape:', x_train.shape)\n",
        "print('y_train shape:', y_train.shape)\n",
        "print('x_test shape:', x_test.shape)\n",
        "print('y_test shape:', y_test.shape)\n",
        "print('x_val shape:', x_val.shape)\n",
        "print('y_val shape:', y_val.shape)"
      ]
    },
    {
      "cell_type": "markdown",
      "metadata": {
        "id": "ep9bTR9WiUnH"
      },
      "source": [
        "Labeling"
      ]
    },
    {
      "cell_type": "code",
      "execution_count": null,
      "metadata": {
        "id": "IRydIn-LiVzO"
      },
      "outputs": [],
      "source": [
        "lb = LabelBinarizer()\n",
        "y_train = lb.fit_transform(y_train)\n",
        "y_test = lb.transform(y_test)\n",
        "y_val = lb.transform(y_val)"
      ]
    },
    {
      "cell_type": "markdown",
      "metadata": {
        "id": "7rlrN6VaidEf"
      },
      "source": [
        "For example:"
      ]
    },
    {
      "cell_type": "code",
      "execution_count": null,
      "metadata": {
        "colab": {
          "base_uri": "https://localhost:8080/"
        },
        "id": "2znT2orWiesU",
        "outputId": "308804cc-e0f1-45f9-efb6-15cb3de3816d"
      },
      "outputs": [
        {
          "data": {
            "text/plain": [
              "array([[0],\n",
              "       [0],\n",
              "       [0],\n",
              "       [1],\n",
              "       [1]])"
            ]
          },
          "execution_count": 27,
          "metadata": {},
          "output_type": "execute_result"
        }
      ],
      "source": [
        "y_train[:5]"
      ]
    },
    {
      "cell_type": "markdown",
      "metadata": {
        "id": "c_DCQwiJnqvg"
      },
      "source": [
        "# **Deep Learning Model**"
      ]
    },
    {
      "cell_type": "markdown",
      "metadata": {
        "id": "lFT_2yqe0kQz"
      },
      "source": [
        "we're going to use Keras' tokenizer (kind of Bag of words):"
      ]
    },
    {
      "cell_type": "code",
      "execution_count": null,
      "metadata": {
        "id": "dF461AtBnqC8"
      },
      "outputs": [],
      "source": [
        "token = Tokenizer(lower=False)\n",
        "token.fit_on_texts(x_train)"
      ]
    },
    {
      "cell_type": "markdown",
      "metadata": {
        "id": "L_NokO3cpude"
      },
      "source": [
        "Convert to sequences:"
      ]
    },
    {
      "cell_type": "code",
      "execution_count": null,
      "metadata": {
        "id": "zH2NpnvJnqAF"
      },
      "outputs": [],
      "source": [
        "x_train_dl = token.texts_to_sequences(x_train)\n",
        "x_val_dl = token.texts_to_sequences(x_val)\n",
        "x_test_dl = token.texts_to_sequences(x_test)"
      ]
    },
    {
      "cell_type": "code",
      "execution_count": null,
      "metadata": {
        "colab": {
          "base_uri": "https://localhost:8080/"
        },
        "id": "gpWHDficnp8y",
        "outputId": "470d9638-952c-473f-bebf-9e35ca3bb816"
      },
      "outputs": [
        {
          "data": {
            "text/plain": [
              "[3132]"
            ]
          },
          "execution_count": 30,
          "metadata": {},
          "output_type": "execute_result"
        }
      ],
      "source": [
        "x_train_dl[1]"
      ]
    },
    {
      "cell_type": "markdown",
      "metadata": {
        "id": "r4pUfoq5qXpt"
      },
      "source": [
        "Calculate document length:"
      ]
    },
    {
      "cell_type": "code",
      "execution_count": null,
      "metadata": {
        "id": "FOC9FVPknp5u"
      },
      "outputs": [],
      "source": [
        "doc_len_list = [len(doc) for doc in x_train_dl]"
      ]
    },
    {
      "cell_type": "markdown",
      "metadata": {
        "id": "tHFntYgYqczH"
      },
      "source": [
        "Exemine the distribution:"
      ]
    },
    {
      "cell_type": "code",
      "execution_count": null,
      "metadata": {
        "colab": {
          "base_uri": "https://localhost:8080/",
          "height": 282
        },
        "id": "zswaPnBbnp22",
        "outputId": "b5b625d8-4fa9-4a83-fbbc-e7a0975b0490"
      },
      "outputs": [
        {
          "data": {
            "text/plain": [
              "<matplotlib.axes._subplots.AxesSubplot at 0x7f9375bf6400>"
            ]
          },
          "execution_count": 32,
          "metadata": {},
          "output_type": "execute_result"
        },
        {
          "data": {
            "image/png": "[encoded data removed]",
            "text/plain": [
              "<Figure size 432x288 with 1 Axes>"
            ]
          },
          "metadata": {},
          "output_type": "display_data"
        }
      ],
      "source": [
        "sns.histplot(doc_len_list)"
      ]
    },
    {
      "cell_type": "markdown",
      "metadata": {
        "id": "Og8leZylqzmJ"
      },
      "source": [
        "We want to make sure that all sequences have the same length, we will fix it to 25 based on the distribution."
      ]
    },
    {
      "cell_type": "code",
      "execution_count": null,
      "metadata": {
        "id": "Ycc6w1WuqiON"
      },
      "outputs": [],
      "source": [
        "max_words = 25\n",
        "\n",
        "x_train_dl = sequence.pad_sequences(x_train_dl, maxlen=max_words)\n",
        "x_val_dl = sequence.pad_sequences(x_val_dl, maxlen=max_words)\n",
        "x_test_dl = sequence.pad_sequences(x_test_dl, maxlen=max_words)"
      ]
    },
    {
      "cell_type": "code",
      "execution_count": null,
      "metadata": {
        "colab": {
          "base_uri": "https://localhost:8080/"
        },
        "id": "ZI_KiHRfqiMH",
        "outputId": "9d0c9952-5644-4651-e3d5-e43fd8db2d30"
      },
      "outputs": [
        {
          "data": {
            "text/plain": [
              "(56324, 25)"
            ]
          },
          "execution_count": 34,
          "metadata": {},
          "output_type": "execute_result"
        }
      ],
      "source": [
        "x_train_dl.shape"
      ]
    },
    {
      "cell_type": "code",
      "execution_count": null,
      "metadata": {
        "colab": {
          "base_uri": "https://localhost:8080/"
        },
        "id": "giBL-1WZqiJ3",
        "outputId": "e8432e1c-78d8-44bb-918f-146d2fc40279"
      },
      "outputs": [
        {
          "data": {
            "text/plain": [
              "array([   0,    0,    0,    0,    0,    0,    0,    0,    0,    0,    0,\n",
              "          0,    0,    0,    0,    0,    0,    0,    0,    0,    0,    0,\n",
              "        112,  140, 2445], dtype=int32)"
            ]
          },
          "execution_count": 35,
          "metadata": {},
          "output_type": "execute_result"
        }
      ],
      "source": [
        "x_train_dl[10, :]"
      ]
    },
    {
      "cell_type": "code",
      "execution_count": null,
      "metadata": {
        "colab": {
          "base_uri": "https://localhost:8080/"
        },
        "id": "jAZ_CLnOqiHM",
        "outputId": "98047088-0290-4c93-bfe0-3a5be254d28b"
      },
      "outputs": [
        {
          "data": {
            "text/plain": [
              "14966"
            ]
          },
          "execution_count": 36,
          "metadata": {},
          "output_type": "execute_result"
        }
      ],
      "source": [
        "total_words = len(token.word_index) + 1\n",
        "total_words"
      ]
    },
    {
      "cell_type": "markdown",
      "metadata": {
        "id": "iuHmTVJbutd8"
      },
      "source": [
        "Model architecture"
      ]
    },
    {
      "cell_type": "code",
      "execution_count": null,
      "metadata": {
        "colab": {
          "base_uri": "https://localhost:8080/"
        },
        "id": "N1_-1lUrqiEj",
        "outputId": "e930ae0e-82e1-43a4-f1e4-a3486ca99e0a"
      },
      "outputs": [
        {
          "name": "stdout",
          "output_type": "stream",
          "text": [
            "Model: \"sequential\"\n",
            "_________________________________________________________________\n",
            " Layer (type)                Output Shape              Param #   \n",
            "=================================================================\n",
            " embedding (Embedding)       (None, 25, 8)             119728    \n",
            "                                                                 \n",
            " conv1d (Conv1D)             (None, 25, 8)             200       \n",
            "                                                                 \n",
            " flatten (Flatten)           (None, 200)               0         \n",
            "                                                                 \n",
            " dense (Dense)               (None, 64)                12864     \n",
            "                                                                 \n",
            " dropout (Dropout)           (None, 64)                0         \n",
            "                                                                 \n",
            " dense_1 (Dense)             (None, 32)                2080      \n",
            "                                                                 \n",
            " dropout_1 (Dropout)         (None, 32)                0         \n",
            "                                                                 \n",
            " dense_2 (Dense)             (None, 1)                 33        \n",
            "                                                                 \n",
            "=================================================================\n",
            "Total params: 134,905\n",
            "Trainable params: 134,905\n",
            "Non-trainable params: 0\n",
            "_________________________________________________________________\n"
          ]
        }
      ],
      "source": [
        "model = Sequential()\n",
        "model.add(Embedding(input_dim=total_words, output_dim=8, input_length=max_words))\n",
        "model.add(Conv1D(8, 3, padding='same', activation='relu'))\n",
        "model.add(Flatten())\n",
        "model.add(Dense(64, activation='relu'))\n",
        "model.add(Dropout(0.7))\n",
        "model.add(Dense(32, activation='relu'))\n",
        "model.add(Dropout(0.5))\n",
        "model.add(Dense(1, activation='sigmoid'))\n",
        "model.compile(loss='binary_crossentropy', optimizer='adam', metrics=['accuracy'])\n",
        "model.summary()"
      ]
    },
    {
      "cell_type": "code",
      "execution_count": null,
      "metadata": {
        "colab": {
          "base_uri": "https://localhost:8080/"
        },
        "id": "XbBaKjjuupN7",
        "outputId": "e23f9a41-ccea-4cdb-f35d-35cf05d7b210"
      },
      "outputs": [
        {
          "name": "stdout",
          "output_type": "stream",
          "text": [
            "Epoch 1/5\n",
            "881/881 [==============================] - 13s 5ms/step - loss: 0.6245 - accuracy: 0.6255 - val_loss: 0.5539 - val_accuracy: 0.7017\n",
            "Epoch 2/5\n",
            "881/881 [==============================] - 4s 5ms/step - loss: 0.5210 - accuracy: 0.7251 - val_loss: 0.5153 - val_accuracy: 0.7149\n",
            "Epoch 3/5\n",
            "881/881 [==============================] - 4s 5ms/step - loss: 0.4622 - accuracy: 0.7618 - val_loss: 0.5231 - val_accuracy: 0.7182\n",
            "Epoch 4/5\n",
            "881/881 [==============================] - 4s 5ms/step - loss: 0.4265 - accuracy: 0.7780 - val_loss: 0.5418 - val_accuracy: 0.7161\n",
            "Epoch 5/5\n",
            "881/881 [==============================] - 4s 5ms/step - loss: 0.3999 - accuracy: 0.7925 - val_loss: 0.5797 - val_accuracy: 0.7121\n"
          ]
        }
      ],
      "source": [
        "model_history=model.fit(x_train_dl, y_train, validation_data=(x_val_dl, y_val), epochs=5, batch_size=64)"
      ]
    },
    {
      "cell_type": "code",
      "execution_count": null,
      "metadata": {
        "colab": {
          "base_uri": "https://localhost:8080/"
        },
        "id": "4oG7TW_GZKoa",
        "outputId": "c155b2de-85ba-4dcf-83e3-8fbcea6a4213"
      },
      "outputs": [
        {
          "data": {
            "text/plain": [
              "0.7924508452415466"
            ]
          },
          "execution_count": 39,
          "metadata": {},
          "output_type": "execute_result"
        }
      ],
      "source": [
        "train_accuracy = model_history.history['accuracy'][-1]\n",
        "train_accuracy"
      ]
    },
    {
      "cell_type": "markdown",
      "metadata": {
        "id": "bFgY0sntu-PQ"
      },
      "source": [
        "# Evaluate the model:"
      ]
    },
    {
      "cell_type": "code",
      "execution_count": null,
      "metadata": {
        "colab": {
          "base_uri": "https://localhost:8080/"
        },
        "id": "e8KE7cCJuo8v",
        "outputId": "deafa053-8179-4476-923a-2272bb1350b1"
      },
      "outputs": [
        {
          "name": "stdout",
          "output_type": "stream",
          "text": [
            "133/133 [==============================] - 1s 2ms/step - loss: 0.4988 - accuracy: 0.8118\n"
          ]
        }
      ],
      "source": [
        "mod_eval=model.evaluate(x_test_dl, y_test)"
      ]
    },
    {
      "cell_type": "markdown",
      "metadata": {
        "id": "3kqEfMBagG3K"
      },
      "source": [
        "## Model evaluate per actor:\n",
        "we'll do it in a loop for each of the Characters"
      ]
    },
    {
      "cell_type": "code",
      "execution_count": null,
      "metadata": {
        "colab": {
          "base_uri": "https://localhost:8080/"
        },
        "id": "7V-s-UIwgIxp",
        "outputId": "bc15c65c-5540-4aa9-8261-91a78577833b"
      },
      "outputs": [
        {
          "name": "stdout",
          "output_type": "stream",
          "text": [
            "['joey', 'phoebe', 'elaine', 'chandler', 'kramer', 'monica', 'ross', 'george', 'rachel', 'jerry']\n"
          ]
        }
      ],
      "source": [
        "#get all the names from \"Character\" column and creat a list.\n",
        "characters = list(train_df['Character'].unique())\n",
        "\n",
        "print(characters)"
      ]
    },
    {
      "cell_type": "code",
      "execution_count": null,
      "metadata": {
        "id": "4kruNxoYgKn5"
      },
      "outputs": [],
      "source": [
        "#utilty function to calculate, save and print the accuracy for each character\n",
        "def character_accuracy(lst):\n",
        "  accuracy_dict = {}\n",
        "  for chr in lst:\n",
        "    df_chr_copy = test_df.copy()\n",
        "    df_chr_copy = df_chr_copy.loc[df_chr_copy['Character'] == chr] #creating a df containing only the quotes of one character at a time\n",
        "\n",
        "    #processing the data\n",
        "    df_chr_test = df_chr_copy['Dialogue']\n",
        "    token.fit_on_texts(df_chr_test)\n",
        "    df_chr_test = token.texts_to_sequences(df_chr_test)\n",
        "    df_chr_test = sequence.pad_sequences(df_chr_test, maxlen=max_words)\n",
        "    df_chr_y = lb.transform(df_chr_copy['Show'])\n",
        "\n",
        "    #testing accuracy\n",
        "    chr_accuracy = model.evaluate(df_chr_test, df_chr_y)\n",
        "    accuracy_dict[chr] = [chr_accuracy, np.round(model.predict(df_chr_test)), df_chr_y] #save the scores, predictions and labels for each character in a dictionary\n",
        "  return accuracy_dict"
      ]
    },
    {
      "cell_type": "code",
      "execution_count": null,
      "metadata": {
        "colab": {
          "base_uri": "https://localhost:8080/"
        },
        "id": "Ap6tkfxegLQG",
        "outputId": "f0d9b733-8377-4cf8-9bc5-85ce14a22c2b"
      },
      "outputs": [
        {
          "name": "stdout",
          "output_type": "stream",
          "text": [
            "15/15 [==============================] - 0s 4ms/step - loss: 1.1322 - accuracy: 0.7076\n",
            "15/15 [==============================] - 0s 2ms/step\n",
            "13/13 [==============================] - 0s 5ms/step - loss: 1.7037 - accuracy: 0.6980\n",
            "13/13 [==============================] - 0s 2ms/step\n",
            "10/10 [==============================] - 0s 3ms/step - loss: 1.9396 - accuracy: 0.4726\n",
            "10/10 [==============================] - 0s 2ms/step\n",
            "13/13 [==============================] - 0s 4ms/step - loss: 1.5557 - accuracy: 0.6910\n",
            "13/13 [==============================] - 0s 2ms/step\n",
            "10/10 [==============================] - 0s 5ms/step - loss: 3.0530 - accuracy: 0.4392\n",
            "10/10 [==============================] - 0s 2ms/step\n",
            "12/12 [==============================] - 0s 4ms/step - loss: 1.6062 - accuracy: 0.6728\n",
            "12/12 [==============================] - 0s 2ms/step\n",
            "15/15 [==============================] - 0s 2ms/step - loss: 1.2116 - accuracy: 0.7158\n",
            "15/15 [==============================] - 0s 2ms/step\n",
            "15/15 [==============================] - 0s 4ms/step - loss: 3.1681 - accuracy: 0.4114\n",
            "15/15 [==============================] - 0s 2ms/step\n",
            "15/15 [==============================] - 0s 3ms/step - loss: 1.4196 - accuracy: 0.7229\n",
            "15/15 [==============================] - 0s 2ms/step\n",
            "19/19 [==============================] - 0s 3ms/step - loss: 3.0689 - accuracy: 0.4174\n",
            "19/19 [==============================] - 0s 2ms/step\n",
            "joey: 0.7076271176338196\n",
            "phoebe: 0.6979695558547974\n",
            "elaine: 0.4726027250289917\n",
            "chandler: 0.6909975409507751\n",
            "kramer: 0.43918919563293457\n",
            "monica: 0.6727748513221741\n",
            "ross: 0.7157894968986511\n",
            "george: 0.4113923907279968\n",
            "rachel: 0.7229437232017517\n",
            "jerry: 0.41737648844718933\n"
          ]
        }
      ],
      "source": [
        "evaluate_per_chr = character_accuracy(characters)\n",
        "for key in evaluate_per_chr:\n",
        "  print(key + ': ' + str(evaluate_per_chr[key][0][1]))"
      ]
    },
    {
      "cell_type": "markdown",
      "metadata": {
        "id": "vYEckWVBjRNs"
      },
      "source": [
        "**Results**: We can see that joey,phoebe and rachel have the highest accuracy score.\n",
        "And george, kramer and jerry got the lowest accuracy scores."
      ]
    },
    {
      "cell_type": "markdown",
      "metadata": {
        "id": "I5fpk8E3a3xf"
      },
      "source": [
        "![5599086099378640360no.jpg](data:image/jpeg;base64,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)"
      ]
    },
    {
      "cell_type": "markdown",
      "metadata": {
        "id": "p9JxCFYzkLAz"
      },
      "source": [
        "# Vizualization"
      ]
    },
    {
      "cell_type": "markdown",
      "metadata": {
        "id": "88RWAlewkOiy"
      },
      "source": [
        "Let's see what a Friends Dialogue looks like using a word cloud:"
      ]
    },
    {
      "cell_type": "code",
      "execution_count": null,
      "metadata": {
        "colab": {
          "base_uri": "https://localhost:8080/",
          "height": 343
        },
        "id": "n9yKX2U0kKj7",
        "outputId": "25737de6-3aa5-4a29-b420-19084776f4e6"
      },
      "outputs": [
        {
          "data": {
            "image/png": "[encoded data removed]",
            "text/plain": [
              "<Figure size 720x720 with 1 Axes>"
            ]
          },
          "metadata": {},
          "output_type": "display_data"
        }
      ],
      "source": [
        "plt.figure(figsize=(10, 10))\n",
        "plt.title('Friends Dialogue')\n",
        "friends_text = x_train[3]\n",
        "WC = WordCloud(width=1000, height=500, max_words=500, min_font_size=5)\n",
        "friends_words = WC.generate(friends_text)\n",
        "plt.imshow(friends_words, interpolation='bilinear')\n",
        "plt.show()"
      ]
    },
    {
      "cell_type": "markdown",
      "metadata": {
        "id": "fPNcBM5Fkjck"
      },
      "source": [
        "And what a Seinfeld Dialogue looks like using a word cloud"
      ]
    },
    {
      "cell_type": "code",
      "execution_count": null,
      "metadata": {
        "colab": {
          "base_uri": "https://localhost:8080/",
          "height": 343
        },
        "id": "FFuHHaDvkh25",
        "outputId": "8853d22c-7d86-416b-ffa1-d42690535e38"
      },
      "outputs": [
        {
          "data": {
            "image/png": "[encoded data removed]",
            "text/plain": [
              "<Figure size 720x720 with 1 Axes>"
            ]
          },
          "metadata": {},
          "output_type": "display_data"
        }
      ],
      "source": [
        "plt.figure(figsize=(10, 10))\n",
        "plt.title('Seinfeld Dialogue')\n",
        "seinfeld_text = x_train[62]\n",
        "WC = WordCloud(width=1000, height=500, max_words=500, min_font_size=5)\n",
        "seinfeld_words = WC.generate(seinfeld_text)\n",
        "plt.imshow(seinfeld_words, interpolation='bilinear')\n",
        "plt.show()"
      ]
    },
    {
      "cell_type": "code",
      "execution_count": null,
      "metadata": {
        "colab": {
          "base_uri": "https://localhost:8080/",
          "height": 1000
        },
        "id": "rp69PDSt9AYw",
        "outputId": "9557fdac-694d-4532-f489-5bd843596ac9"
      },
      "outputs": [
        {
          "data": {
            "image/png": "[encoded data removed]",
            "text/plain": [
              "<Figure size 432x288 with 2 Axes>"
            ]
          },
          "metadata": {},
          "output_type": "display_data"
        },
        {
          "data": {
            "image/png": "[encoded data removed]",
            "text/plain": [
              "<Figure size 432x288 with 2 Axes>"
            ]
          },
          "metadata": {},
          "output_type": "display_data"
        },
        {
          "data": {
            "image/png": "[encoded data removed]",
            "text/plain": [
              "<Figure size 432x288 with 2 Axes>"
            ]
          },
          "metadata": {},
          "output_type": "display_data"
        },
        {
          "data": {
            "image/png": "[encoded data removed]",
            "text/plain": [
              "<Figure size 432x288 with 2 Axes>"
            ]
          },
          "metadata": {},
          "output_type": "display_data"
        },
        {
          "data": {
            "image/png": "[encoded data removed]",
            "text/plain": [
              "<Figure size 432x288 with 2 Axes>"
            ]
          },
          "metadata": {},
          "output_type": "display_data"
        },
        {
          "data": {
            "image/png": "[encoded data removed]",
            "text/plain": [
              "<Figure size 432x288 with 2 Axes>"
            ]
          },
          "metadata": {},
          "output_type": "display_data"
        },
        {
          "data": {
            "image/png": "[encoded data removed]",
            "text/plain": [
              "<Figure size 432x288 with 2 Axes>"
            ]
          },
          "metadata": {},
          "output_type": "display_data"
        },
        {
          "data": {
            "image/png": "[encoded data removed]",
            "text/plain": [
              "<Figure size 432x288 with 2 Axes>"
            ]
          },
          "metadata": {},
          "output_type": "display_data"
        },
        {
          "data": {
            "image/png": "[encoded data removed]",
            "text/plain": [
              "<Figure size 432x288 with 2 Axes>"
            ]
          },
          "metadata": {},
          "output_type": "display_data"
        },
        {
          "data": {
            "image/png": "[encoded data removed]",
            "text/plain": [
              "<Figure size 432x288 with 2 Axes>"
            ]
          },
          "metadata": {},
          "output_type": "display_data"
        }
      ],
      "source": [
        "for chr in characters:\n",
        "  matrix = confusion_matrix(evaluate_per_chr[chr][2], evaluate_per_chr[chr][1])\n",
        "  im = display_matrix(matrix)\n",
        "  im.plot()\n",
        "  plt.title(\"Confusion Matrix for \" + chr)\n",
        "  plt.show()"
      ]
    },
    {
      "cell_type": "markdown",
      "metadata": {
        "id": "58-P0TdSNvFe"
      },
      "source": [
        "# Summary"
      ]
    },
    {
      "cell_type": "code",
      "execution_count": null,
      "metadata": {
        "colab": {
          "base_uri": "https://localhost:8080/",
          "height": 125
        },
        "id": "IonCAWvIhBFr",
        "outputId": "ce96bdcf-ac63-4a09-d02e-4e4f892216c4"
      },
      "outputs": [
        {
          "data": {
            "text/html": [
              "\n",
              "  <div id=\"df-0f6237f0-211d-4b0f-b3d7-d1a5fa298228\">\n",
              "    <div class=\"colab-df-container\">\n",
              "      <div>\n",
              "<style scoped>\n",
              "    .dataframe tbody tr th:only-of-type {\n",
              "        vertical-align: middle;\n",
              "    }\n",
              "\n",
              "    .dataframe tbody tr th {\n",
              "        vertical-align: top;\n",
              "    }\n",
              "\n",
              "    .dataframe thead th {\n",
              "        text-align: right;\n",
              "    }\n",
              "</style>\n",
              "<table border=\"1\" class=\"dataframe\">\n",
              "  <thead>\n",
              "    <tr style=\"text-align: right;\">\n",
              "      <th></th>\n",
              "      <th>Test score (Accuracy)</th>\n",
              "      <th>Train score (Accuracy)</th>\n",
              "      <th>Number of trainable parameters</th>\n",
              "      <th>Number of layers</th>\n",
              "      <th>Regularization methods</th>\n",
              "      <th>Number of epochs</th>\n",
              "      <th>Loss function</th>\n",
              "      <th>Optimizer</th>\n",
              "      <th>Embedding dimension</th>\n",
              "    </tr>\n",
              "  </thead>\n",
              "  <tbody>\n",
              "    <tr>\n",
              "      <th>0</th>\n",
              "      <td>0.8117785453796387</td>\n",
              "      <td>0.7924508452415466</td>\n",
              "      <td>134905</td>\n",
              "      <td>8</td>\n",
              "      <td>Dropout</td>\n",
              "      <td>5</td>\n",
              "      <td>binary_crossentropy</td>\n",
              "      <td>adam</td>\n",
              "      <td>14966</td>\n",
              "    </tr>\n",
              "  </tbody>\n",
              "</table>\n",
              "</div>\n",
              "      <button class=\"colab-df-convert\" onclick=\"convertToInteractive('df-0f6237f0-211d-4b0f-b3d7-d1a5fa298228')\"\n",
              "              title=\"Convert this dataframe to an interactive table.\"\n",
              "              style=\"display:none;\">\n",
              "        \n",
              "  <svg xmlns=\"http://www.w3.org/2000/svg\" height=\"24px\"viewBox=\"0 0 24 24\"\n",
              "       width=\"24px\">\n",
              "    <path d=\"M0 0h24v24H0V0z\" fill=\"none\"/>\n",
              "    <path d=\"M18.56 5.44l.94 2.06.94-2.06 2.06-.94-2.06-.94-.94-2.06-.94 2.06-2.06.94zm-11 1L8.5 8.5l.94-2.06 2.06-.94-2.06-.94L8.5 2.5l-.94 2.06-2.06.94zm10 10l.94 2.06.94-2.06 2.06-.94-2.06-.94-.94-2.06-.94 2.06-2.06.94z\"/><path d=\"M17.41 7.96l-1.37-1.37c-.4-.4-.92-.59-1.43-.59-.52 0-1.04.2-1.43.59L10.3 9.45l-7.72 7.72c-.78.78-.78 2.05 0 2.83L4 21.41c.39.39.9.59 1.41.59.51 0 1.02-.2 1.41-.59l7.78-7.78 2.81-2.81c.8-.78.8-2.07 0-2.86zM5.41 20L4 18.59l7.72-7.72 1.47 1.35L5.41 20z\"/>\n",
              "  </svg>\n",
              "      </button>\n",
              "      \n",
              "  <style>\n",
              "    .colab-df-container {\n",
              "      display:flex;\n",
              "      flex-wrap:wrap;\n",
              "      gap: 12px;\n",
              "    }\n",
              "\n",
              "    .colab-df-convert {\n",
              "      background-color: #E8F0FE;\n",
              "      border: none;\n",
              "      border-radius: 50%;\n",
              "      cursor: pointer;\n",
              "      display: none;\n",
              "      fill: #1967D2;\n",
              "      height: 32px;\n",
              "      padding: 0 0 0 0;\n",
              "      width: 32px;\n",
              "    }\n",
              "\n",
              "    .colab-df-convert:hover {\n",
              "      background-color: #E2EBFA;\n",
              "      box-shadow: 0px 1px 2px rgba(60, 64, 67, 0.3), 0px 1px 3px 1px rgba(60, 64, 67, 0.15);\n",
              "      fill: #174EA6;\n",
              "    }\n",
              "\n",
              "    [theme=dark] .colab-df-convert {\n",
              "      background-color: #3B4455;\n",
              "      fill: #D2E3FC;\n",
              "    }\n",
              "\n",
              "    [theme=dark] .colab-df-convert:hover {\n",
              "      background-color: #434B5C;\n",
              "      box-shadow: 0px 1px 3px 1px rgba(0, 0, 0, 0.15);\n",
              "      filter: drop-shadow(0px 1px 2px rgba(0, 0, 0, 0.3));\n",
              "      fill: #FFFFFF;\n",
              "    }\n",
              "  </style>\n",
              "\n",
              "      <script>\n",
              "        const buttonEl =\n",
              "          document.querySelector('#df-0f6237f0-211d-4b0f-b3d7-d1a5fa298228 button.colab-df-convert');\n",
              "        buttonEl.style.display =\n",
              "          google.colab.kernel.accessAllowed ? 'block' : 'none';\n",
              "\n",
              "        async function convertToInteractive(key) {\n",
              "          const element = document.querySelector('#df-0f6237f0-211d-4b0f-b3d7-d1a5fa298228');\n",
              "          const dataTable =\n",
              "            await google.colab.kernel.invokeFunction('convertToInteractive',\n",
              "                                                     [key], {});\n",
              "          if (!dataTable) return;\n",
              "\n",
              "          const docLinkHtml = 'Like what you see? Visit the ' +\n",
              "            '<a target=\"_blank\" href=https://colab.research.google.com/notebooks/data_table.ipynb>data table notebook</a>'\n",
              "            + ' to learn more about interactive tables.';\n",
              "          element.innerHTML = '';\n",
              "          dataTable['output_type'] = 'display_data';\n",
              "          await google.colab.output.renderOutput(dataTable, element);\n",
              "          const docLink = document.createElement('div');\n",
              "          docLink.innerHTML = docLinkHtml;\n",
              "          element.appendChild(docLink);\n",
              "        }\n",
              "      </script>\n",
              "    </div>\n",
              "  </div>\n",
              "  "
            ],
            "text/plain": [
              "  Test score (Accuracy) Train score (Accuracy)  \\\n",
              "0    0.8117785453796387     0.7924508452415466   \n",
              "\n",
              "   Number of trainable parameters  Number of layers Regularization methods  \\\n",
              "0                          134905                 8                Dropout   \n",
              "\n",
              "   Number of epochs        Loss function Optimizer  Embedding dimension  \n",
              "0                 5  binary_crossentropy      adam                14966  "
            ]
          },
          "execution_count": 47,
          "metadata": {},
          "output_type": "execute_result"
        }
      ],
      "source": [
        "# generate the CSV file\n",
        "\n",
        "results = {'Test score (Accuracy)': [str(mod_eval[1])],\n",
        "           'Train score (Accuracy)': [str(train_accuracy)],\n",
        "           'Number of trainable parameters': [134905],\n",
        "           'Number of layers': [len(model.layers)],\n",
        "           'Regularization methods': ['Dropout'],\n",
        "           'Number of epochs': [5],\n",
        "           'Loss function': ['binary_crossentropy'],\n",
        "           'Optimizer': ['adam'],\n",
        "           'Embedding dimension': [total_words]\n",
        "           }\n",
        "\n",
        "df = pd.DataFrame(results)\n",
        "df"
      ]
    },
    {
      "cell_type": "code",
      "execution_count": null,
      "metadata": {
        "id": "CSQjKY7LhQno"
      },
      "outputs": [],
      "source": [
        "df.to_csv(os.path.join(os.getcwd(), 'exercise3.csv'))"
      ]
    }
  ],
  "metadata": {
    "accelerator": "GPU",
    "colab": {
      "provenance": [],
      "include_colab_link": true
    },
    "gpuClass": "standard",
    "kernelspec": {
      "display_name": "Python 3",
      "name": "python3"
    },
    "language_info": {
      "name": "python"
    },
    "widgets": {
      "application/vnd.jupyter.widget-state+json": {
        "018d256820b64b5585fb47efc9ff72dd": {
          "model_module": "@jupyter-widgets/base",
          "model_module_version": "1.2.0",
          "model_name": "LayoutModel",
          "state": {
            "_model_module": "@jupyter-widgets/base",
            "_model_module_version": "1.2.0",
            "_model_name": "LayoutModel",
            "_view_count": null,
            "_view_module": "@jupyter-widgets/base",
            "_view_module_version": "1.2.0",
            "_view_name": "LayoutView",
            "align_content": null,
            "align_items": null,
            "align_self": null,
            "border": null,
            "bottom": null,
            "display": null,
            "flex": null,
            "flex_flow": null,
            "grid_area": null,
            "grid_auto_columns": null,
            "grid_auto_flow": null,
            "grid_auto_rows": null,
            "grid_column": null,
            "grid_gap": null,
            "grid_row": null,
            "grid_template_areas": null,
            "grid_template_columns": null,
            "grid_template_rows": null,
            "height": null,
            "justify_content": null,
            "justify_items": null,
            "left": null,
            "margin": null,
            "max_height": null,
            "max_width": null,
            "min_height": null,
            "min_width": null,
            "object_fit": null,
            "object_position": null,
            "order": null,
            "overflow": null,
            "overflow_x": null,
            "overflow_y": null,
            "padding": null,
            "right": null,
            "top": null,
            "visibility": null,
            "width": null
          }
        },
        "061e0350e2f84fbe83c8e53a5360c619": {
          "model_module": "@jupyter-widgets/controls",
          "model_module_version": "1.5.0",
          "model_name": "FloatProgressModel",
          "state": {
            "_dom_classes": [],
            "_model_module": "@jupyter-widgets/controls",
            "_model_module_version": "1.5.0",
            "_model_name": "FloatProgressModel",
            "_view_count": null,
            "_view_module": "@jupyter-widgets/controls",
            "_view_module_version": "1.5.0",
            "_view_name": "ProgressView",
            "bar_style": "success",
            "description": "",
            "description_tooltip": null,
            "layout": "IPY_MODEL_c9ff2e2c86d0445391050ffdea677e03",
            "max": 4245,
            "min": 0,
            "orientation": "horizontal",
            "style": "IPY_MODEL_46b39e24e4c44a9185a38202e9ab425c",
            "value": 4245
          }
        },
        "07294280791a4338827a4e8a367942cd": {
          "model_module": "@jupyter-widgets/base",
          "model_module_version": "1.2.0",
          "model_name": "LayoutModel",
          "state": {
            "_model_module": "@jupyter-widgets/base",
            "_model_module_version": "1.2.0",
            "_model_name": "LayoutModel",
            "_view_count": null,
            "_view_module": "@jupyter-widgets/base",
            "_view_module_version": "1.2.0",
            "_view_name": "LayoutView",
            "align_content": null,
            "align_items": null,
            "align_self": null,
            "border": null,
            "bottom": null,
            "display": null,
            "flex": null,
            "flex_flow": null,
            "grid_area": null,
            "grid_auto_columns": null,
            "grid_auto_flow": null,
            "grid_auto_rows": null,
            "grid_column": null,
            "grid_gap": null,
            "grid_row": null,
            "grid_template_areas": null,
            "grid_template_columns": null,
            "grid_template_rows": null,
            "height": null,
            "justify_content": null,
            "justify_items": null,
            "left": null,
            "margin": null,
            "max_height": null,
            "max_width": null,
            "min_height": null,
            "min_width": null,
            "object_fit": null,
            "object_position": null,
            "order": null,
            "overflow": null,
            "overflow_x": null,
            "overflow_y": null,
            "padding": null,
            "right": null,
            "top": null,
            "visibility": null,
            "width": null
          }
        },
        "099fac5465dd4b8a9d159ac490aa9e80": {
          "model_module": "@jupyter-widgets/controls",
          "model_module_version": "1.5.0",
          "model_name": "FloatProgressModel",
          "state": {
            "_dom_classes": [],
            "_model_module": "@jupyter-widgets/controls",
            "_model_module_version": "1.5.0",
            "_model_name": "FloatProgressModel",
            "_view_count": null,
            "_view_module": "@jupyter-widgets/controls",
            "_view_module_version": "1.5.0",
            "_view_name": "ProgressView",
            "bar_style": "success",
            "description": "",
            "description_tooltip": null,
            "layout": "IPY_MODEL_07294280791a4338827a4e8a367942cd",
            "max": 70405,
            "min": 0,
            "orientation": "horizontal",
            "style": "IPY_MODEL_1c1982e9485d46a494da92345d526de1",
            "value": 70405
          }
        },
        "0a3a0901e0ec48c1bb82da8406fc2d54": {
          "model_module": "@jupyter-widgets/base",
          "model_module_version": "1.2.0",
          "model_name": "LayoutModel",
          "state": {
            "_model_module": "@jupyter-widgets/base",
            "_model_module_version": "1.2.0",
            "_model_name": "LayoutModel",
            "_view_count": null,
            "_view_module": "@jupyter-widgets/base",
            "_view_module_version": "1.2.0",
            "_view_name": "LayoutView",
            "align_content": null,
            "align_items": null,
            "align_self": null,
            "border": null,
            "bottom": null,
            "display": null,
            "flex": null,
            "flex_flow": null,
            "grid_area": null,
            "grid_auto_columns": null,
            "grid_auto_flow": null,
            "grid_auto_rows": null,
            "grid_column": null,
            "grid_gap": null,
            "grid_row": null,
            "grid_template_areas": null,
            "grid_template_columns": null,
            "grid_template_rows": null,
            "height": null,
            "justify_content": null,
            "justify_items": null,
            "left": null,
            "margin": null,
            "max_height": null,
            "max_width": null,
            "min_height": null,
            "min_width": null,
            "object_fit": null,
            "object_position": null,
            "order": null,
            "overflow": null,
            "overflow_x": null,
            "overflow_y": null,
            "padding": null,
            "right": null,
            "top": null,
            "visibility": null,
            "width": null
          }
        },
        "0ebc0e5198554833854dcee32336a7b5": {
          "model_module": "@jupyter-widgets/base",
          "model_module_version": "1.2.0",
          "model_name": "LayoutModel",
          "state": {
            "_model_module": "@jupyter-widgets/base",
            "_model_module_version": "1.2.0",
            "_model_name": "LayoutModel",
            "_view_count": null,
            "_view_module": "@jupyter-widgets/base",
            "_view_module_version": "1.2.0",
            "_view_name": "LayoutView",
            "align_content": null,
            "align_items": null,
            "align_self": null,
            "border": null,
            "bottom": null,
            "display": null,
            "flex": null,
            "flex_flow": null,
            "grid_area": null,
            "grid_auto_columns": null,
            "grid_auto_flow": null,
            "grid_auto_rows": null,
            "grid_column": null,
            "grid_gap": null,
            "grid_row": null,
            "grid_template_areas": null,
            "grid_template_columns": null,
            "grid_template_rows": null,
            "height": null,
            "justify_content": null,
            "justify_items": null,
            "left": null,
            "margin": null,
            "max_height": null,
            "max_width": null,
            "min_height": null,
            "min_width": null,
            "object_fit": null,
            "object_position": null,
            "order": null,
            "overflow": null,
            "overflow_x": null,
            "overflow_y": null,
            "padding": null,
            "right": null,
            "top": null,
            "visibility": null,
            "width": null
          }
        },
        "15958e4a05ad4cf98b793099a8508902": {
          "model_module": "@jupyter-widgets/controls",
          "model_module_version": "1.5.0",
          "model_name": "HBoxModel",
          "state": {
            "_dom_classes": [],
            "_model_module": "@jupyter-widgets/controls",
            "_model_module_version": "1.5.0",
            "_model_name": "HBoxModel",
            "_view_count": null,
            "_view_module": "@jupyter-widgets/controls",
            "_view_module_version": "1.5.0",
            "_view_name": "HBoxView",
            "box_style": "",
            "children": [
              "IPY_MODEL_a8ac41e277ba4f7298d8e14c46498f8c",
              "IPY_MODEL_70261bd0a2154f628a96f55e92247062",
              "IPY_MODEL_73f79cb53eec4bb7a82affbb506477e6"
            ],
            "layout": "IPY_MODEL_1ad6da0006f0474caa2d240ae94bc0d3"
          }
        },
        "1ad6da0006f0474caa2d240ae94bc0d3": {
          "model_module": "@jupyter-widgets/base",
          "model_module_version": "1.2.0",
          "model_name": "LayoutModel",
          "state": {
            "_model_module": "@jupyter-widgets/base",
            "_model_module_version": "1.2.0",
            "_model_name": "LayoutModel",
            "_view_count": null,
            "_view_module": "@jupyter-widgets/base",
            "_view_module_version": "1.2.0",
            "_view_name": "LayoutView",
            "align_content": null,
            "align_items": null,
            "align_self": null,
            "border": null,
            "bottom": null,
            "display": null,
            "flex": null,
            "flex_flow": null,
            "grid_area": null,
            "grid_auto_columns": null,
            "grid_auto_flow": null,
            "grid_auto_rows": null,
            "grid_column": null,
            "grid_gap": null,
            "grid_row": null,
            "grid_template_areas": null,
            "grid_template_columns": null,
            "grid_template_rows": null,
            "height": null,
            "justify_content": null,
            "justify_items": null,
            "left": null,
            "margin": null,
            "max_height": null,
            "max_width": null,
            "min_height": null,
            "min_width": null,
            "object_fit": null,
            "object_position": null,
            "order": null,
            "overflow": null,
            "overflow_x": null,
            "overflow_y": null,
            "padding": null,
            "right": null,
            "top": null,
            "visibility": null,
            "width": null
          }
        },
        "1c1982e9485d46a494da92345d526de1": {
          "model_module": "@jupyter-widgets/controls",
          "model_module_version": "1.5.0",
          "model_name": "ProgressStyleModel",
          "state": {
            "_model_module": "@jupyter-widgets/controls",
            "_model_module_version": "1.5.0",
            "_model_name": "ProgressStyleModel",
            "_view_count": null,
            "_view_module": "@jupyter-widgets/base",
            "_view_module_version": "1.2.0",
            "_view_name": "StyleView",
            "bar_color": null,
            "description_width": ""
          }
        },
        "33c303c171be4c38bd5ddb1a3f3054d0": {
          "model_module": "@jupyter-widgets/base",
          "model_module_version": "1.2.0",
          "model_name": "LayoutModel",
          "state": {
            "_model_module": "@jupyter-widgets/base",
            "_model_module_version": "1.2.0",
            "_model_name": "LayoutModel",
            "_view_count": null,
            "_view_module": "@jupyter-widgets/base",
            "_view_module_version": "1.2.0",
            "_view_name": "LayoutView",
            "align_content": null,
            "align_items": null,
            "align_self": null,
            "border": null,
            "bottom": null,
            "display": null,
            "flex": null,
            "flex_flow": null,
            "grid_area": null,
            "grid_auto_columns": null,
            "grid_auto_flow": null,
            "grid_auto_rows": null,
            "grid_column": null,
            "grid_gap": null,
            "grid_row": null,
            "grid_template_areas": null,
            "grid_template_columns": null,
            "grid_template_rows": null,
            "height": null,
            "justify_content": null,
            "justify_items": null,
            "left": null,
            "margin": null,
            "max_height": null,
            "max_width": null,
            "min_height": null,
            "min_width": null,
            "object_fit": null,
            "object_position": null,
            "order": null,
            "overflow": null,
            "overflow_x": null,
            "overflow_y": null,
            "padding": null,
            "right": null,
            "top": null,
            "visibility": null,
            "width": null
          }
        },
        "3459c0e791a949078e0e295af9a83f11": {
          "model_module": "@jupyter-widgets/controls",
          "model_module_version": "1.5.0",
          "model_name": "DescriptionStyleModel",
          "state": {
            "_model_module": "@jupyter-widgets/controls",
            "_model_module_version": "1.5.0",
            "_model_name": "DescriptionStyleModel",
            "_view_count": null,
            "_view_module": "@jupyter-widgets/base",
            "_view_module_version": "1.2.0",
            "_view_name": "StyleView",
            "description_width": ""
          }
        },
        "36dcf6bc8c5a4423b286e7ebb96738ff": {
          "model_module": "@jupyter-widgets/base",
          "model_module_version": "1.2.0",
          "model_name": "LayoutModel",
          "state": {
            "_model_module": "@jupyter-widgets/base",
            "_model_module_version": "1.2.0",
            "_model_name": "LayoutModel",
            "_view_count": null,
            "_view_module": "@jupyter-widgets/base",
            "_view_module_version": "1.2.0",
            "_view_name": "LayoutView",
            "align_content": null,
            "align_items": null,
            "align_self": null,
            "border": null,
            "bottom": null,
            "display": null,
            "flex": null,
            "flex_flow": null,
            "grid_area": null,
            "grid_auto_columns": null,
            "grid_auto_flow": null,
            "grid_auto_rows": null,
            "grid_column": null,
            "grid_gap": null,
            "grid_row": null,
            "grid_template_areas": null,
            "grid_template_columns": null,
            "grid_template_rows": null,
            "height": null,
            "justify_content": null,
            "justify_items": null,
            "left": null,
            "margin": null,
            "max_height": null,
            "max_width": null,
            "min_height": null,
            "min_width": null,
            "object_fit": null,
            "object_position": null,
            "order": null,
            "overflow": null,
            "overflow_x": null,
            "overflow_y": null,
            "padding": null,
            "right": null,
            "top": null,
            "visibility": null,
            "width": null
          }
        },
        "413857b42e0548c59184c478bc16e709": {
          "model_module": "@jupyter-widgets/controls",
          "model_module_version": "1.5.0",
          "model_name": "ProgressStyleModel",
          "state": {
            "_model_module": "@jupyter-widgets/controls",
            "_model_module_version": "1.5.0",
            "_model_name": "ProgressStyleModel",
            "_view_count": null,
            "_view_module": "@jupyter-widgets/base",
            "_view_module_version": "1.2.0",
            "_view_name": "StyleView",
            "bar_color": null,
            "description_width": ""
          }
        },
        "4145673f83b74a3381a7210e3b43a6b5": {
          "model_module": "@jupyter-widgets/controls",
          "model_module_version": "1.5.0",
          "model_name": "HBoxModel",
          "state": {
            "_dom_classes": [],
            "_model_module": "@jupyter-widgets/controls",
            "_model_module_version": "1.5.0",
            "_model_name": "HBoxModel",
            "_view_count": null,
            "_view_module": "@jupyter-widgets/controls",
            "_view_module_version": "1.5.0",
            "_view_name": "HBoxView",
            "box_style": "",
            "children": [
              "IPY_MODEL_c55e8cc1168c403d85c10198c324070b",
              "IPY_MODEL_face6ec7ed0b41de9653293e44b14d5f",
              "IPY_MODEL_b7e59d0c9fd04631a5982531377cabba"
            ],
            "layout": "IPY_MODEL_a9bf4270903847ef94706855461dc9cf"
          }
        },
        "46b39e24e4c44a9185a38202e9ab425c": {
          "model_module": "@jupyter-widgets/controls",
          "model_module_version": "1.5.0",
          "model_name": "ProgressStyleModel",
          "state": {
            "_model_module": "@jupyter-widgets/controls",
            "_model_module_version": "1.5.0",
            "_model_name": "ProgressStyleModel",
            "_view_count": null,
            "_view_module": "@jupyter-widgets/base",
            "_view_module_version": "1.2.0",
            "_view_name": "StyleView",
            "bar_color": null,
            "description_width": ""
          }
        },
        "575f4a91ce1b49f3bf4721b5038b1a20": {
          "model_module": "@jupyter-widgets/controls",
          "model_module_version": "1.5.0",
          "model_name": "DescriptionStyleModel",
          "state": {
            "_model_module": "@jupyter-widgets/controls",
            "_model_module_version": "1.5.0",
            "_model_name": "DescriptionStyleModel",
            "_view_count": null,
            "_view_module": "@jupyter-widgets/base",
            "_view_module_version": "1.2.0",
            "_view_name": "StyleView",
            "description_width": ""
          }
        },
        "58a8fa2658734b679a7257124f82d54d": {
          "model_module": "@jupyter-widgets/controls",
          "model_module_version": "1.5.0",
          "model_name": "ProgressStyleModel",
          "state": {
            "_model_module": "@jupyter-widgets/controls",
            "_model_module_version": "1.5.0",
            "_model_name": "ProgressStyleModel",
            "_view_count": null,
            "_view_module": "@jupyter-widgets/base",
            "_view_module_version": "1.2.0",
            "_view_name": "StyleView",
            "bar_color": null,
            "description_width": ""
          }
        },
        "6004613c805040eeacd47b2fee669455": {
          "model_module": "@jupyter-widgets/base",
          "model_module_version": "1.2.0",
          "model_name": "LayoutModel",
          "state": {
            "_model_module": "@jupyter-widgets/base",
            "_model_module_version": "1.2.0",
            "_model_name": "LayoutModel",
            "_view_count": null,
            "_view_module": "@jupyter-widgets/base",
            "_view_module_version": "1.2.0",
            "_view_name": "LayoutView",
            "align_content": null,
            "align_items": null,
            "align_self": null,
            "border": null,
            "bottom": null,
            "display": null,
            "flex": null,
            "flex_flow": null,
            "grid_area": null,
            "grid_auto_columns": null,
            "grid_auto_flow": null,
            "grid_auto_rows": null,
            "grid_column": null,
            "grid_gap": null,
            "grid_row": null,
            "grid_template_areas": null,
            "grid_template_columns": null,
            "grid_template_rows": null,
            "height": null,
            "justify_content": null,
            "justify_items": null,
            "left": null,
            "margin": null,
            "max_height": null,
            "max_width": null,
            "min_height": null,
            "min_width": null,
            "object_fit": null,
            "object_position": null,
            "order": null,
            "overflow": null,
            "overflow_x": null,
            "overflow_y": null,
            "padding": null,
            "right": null,
            "top": null,
            "visibility": null,
            "width": null
          }
        },
        "61a27007b7c44b6abe48ff65029c3aaf": {
          "model_module": "@jupyter-widgets/controls",
          "model_module_version": "1.5.0",
          "model_name": "DescriptionStyleModel",
          "state": {
            "_model_module": "@jupyter-widgets/controls",
            "_model_module_version": "1.5.0",
            "_model_name": "DescriptionStyleModel",
            "_view_count": null,
            "_view_module": "@jupyter-widgets/base",
            "_view_module_version": "1.2.0",
            "_view_name": "StyleView",
            "description_width": ""
          }
        },
        "70261bd0a2154f628a96f55e92247062": {
          "model_module": "@jupyter-widgets/controls",
          "model_module_version": "1.5.0",
          "model_name": "FloatProgressModel",
          "state": {
            "_dom_classes": [],
            "_model_module": "@jupyter-widgets/controls",
            "_model_module_version": "1.5.0",
            "_model_name": "FloatProgressModel",
            "_view_count": null,
            "_view_module": "@jupyter-widgets/controls",
            "_view_module_version": "1.5.0",
            "_view_name": "ProgressView",
            "bar_style": "success",
            "description": "",
            "description_tooltip": null,
            "layout": "IPY_MODEL_018d256820b64b5585fb47efc9ff72dd",
            "max": 4245,
            "min": 0,
            "orientation": "horizontal",
            "style": "IPY_MODEL_58a8fa2658734b679a7257124f82d54d",
            "value": 4245
          }
        },
        "71ab44fe1653480899e9b33b9f36951e": {
          "model_module": "@jupyter-widgets/base",
          "model_module_version": "1.2.0",
          "model_name": "LayoutModel",
          "state": {
            "_model_module": "@jupyter-widgets/base",
            "_model_module_version": "1.2.0",
            "_model_name": "LayoutModel",
            "_view_count": null,
            "_view_module": "@jupyter-widgets/base",
            "_view_module_version": "1.2.0",
            "_view_name": "LayoutView",
            "align_content": null,
            "align_items": null,
            "align_self": null,
            "border": null,
            "bottom": null,
            "display": null,
            "flex": null,
            "flex_flow": null,
            "grid_area": null,
            "grid_auto_columns": null,
            "grid_auto_flow": null,
            "grid_auto_rows": null,
            "grid_column": null,
            "grid_gap": null,
            "grid_row": null,
            "grid_template_areas": null,
            "grid_template_columns": null,
            "grid_template_rows": null,
            "height": null,
            "justify_content": null,
            "justify_items": null,
            "left": null,
            "margin": null,
            "max_height": null,
            "max_width": null,
            "min_height": null,
            "min_width": null,
            "object_fit": null,
            "object_position": null,
            "order": null,
            "overflow": null,
            "overflow_x": null,
            "overflow_y": null,
            "padding": null,
            "right": null,
            "top": null,
            "visibility": null,
            "width": null
          }
        },
        "73f79cb53eec4bb7a82affbb506477e6": {
          "model_module": "@jupyter-widgets/controls",
          "model_module_version": "1.5.0",
          "model_name": "HTMLModel",
          "state": {
            "_dom_classes": [],
            "_model_module": "@jupyter-widgets/controls",
            "_model_module_version": "1.5.0",
            "_model_name": "HTMLModel",
            "_view_count": null,
            "_view_module": "@jupyter-widgets/controls",
            "_view_module_version": "1.5.0",
            "_view_name": "HTMLView",
            "description": "",
            "description_tooltip": null,
            "layout": "IPY_MODEL_fdc234e01c7b4882a70825bc262b2f2f",
            "placeholder": "​",
            "style": "IPY_MODEL_d8aac9911e804eedbc8eaabb351f86e3",
            "value": " 4245/4245 [00:01&lt;00:00, 4438.78it/s]"
          }
        },
        "743540abb28f4a8cbf33921afec71c09": {
          "model_module": "@jupyter-widgets/controls",
          "model_module_version": "1.5.0",
          "model_name": "HBoxModel",
          "state": {
            "_dom_classes": [],
            "_model_module": "@jupyter-widgets/controls",
            "_model_module_version": "1.5.0",
            "_model_name": "HBoxModel",
            "_view_count": null,
            "_view_module": "@jupyter-widgets/controls",
            "_view_module_version": "1.5.0",
            "_view_name": "HBoxView",
            "box_style": "",
            "children": [
              "IPY_MODEL_9746683de5324b3da8439b5a360ff3e6",
              "IPY_MODEL_061e0350e2f84fbe83c8e53a5360c619",
              "IPY_MODEL_bc8ecb7b3cab4022b0bde5c03ac8c55d"
            ],
            "layout": "IPY_MODEL_33c303c171be4c38bd5ddb1a3f3054d0"
          }
        },
        "9746683de5324b3da8439b5a360ff3e6": {
          "model_module": "@jupyter-widgets/controls",
          "model_module_version": "1.5.0",
          "model_name": "HTMLModel",
          "state": {
            "_dom_classes": [],
            "_model_module": "@jupyter-widgets/controls",
            "_model_module_version": "1.5.0",
            "_model_name": "HTMLModel",
            "_view_count": null,
            "_view_module": "@jupyter-widgets/controls",
            "_view_module_version": "1.5.0",
            "_view_name": "HTMLView",
            "description": "",
            "description_tooltip": null,
            "layout": "IPY_MODEL_71ab44fe1653480899e9b33b9f36951e",
            "placeholder": "​",
            "style": "IPY_MODEL_61a27007b7c44b6abe48ff65029c3aaf",
            "value": "100%"
          }
        },
        "a242237e0ced49438d0b028c79e45cdc": {
          "model_module": "@jupyter-widgets/controls",
          "model_module_version": "1.5.0",
          "model_name": "HBoxModel",
          "state": {
            "_dom_classes": [],
            "_model_module": "@jupyter-widgets/controls",
            "_model_module_version": "1.5.0",
            "_model_name": "HBoxModel",
            "_view_count": null,
            "_view_module": "@jupyter-widgets/controls",
            "_view_module_version": "1.5.0",
            "_view_name": "HBoxView",
            "box_style": "",
            "children": [
              "IPY_MODEL_a67be6c020f7430e97eb6ed8bade5809",
              "IPY_MODEL_099fac5465dd4b8a9d159ac490aa9e80",
              "IPY_MODEL_bd99be50e01a4f2cbc150e07d5e9fd0a"
            ],
            "layout": "IPY_MODEL_d84e1f480e3947ac972e022e6f9ad4f4"
          }
        },
        "a67be6c020f7430e97eb6ed8bade5809": {
          "model_module": "@jupyter-widgets/controls",
          "model_module_version": "1.5.0",
          "model_name": "HTMLModel",
          "state": {
            "_dom_classes": [],
            "_model_module": "@jupyter-widgets/controls",
            "_model_module_version": "1.5.0",
            "_model_name": "HTMLModel",
            "_view_count": null,
            "_view_module": "@jupyter-widgets/controls",
            "_view_module_version": "1.5.0",
            "_view_name": "HTMLView",
            "description": "",
            "description_tooltip": null,
            "layout": "IPY_MODEL_0ebc0e5198554833854dcee32336a7b5",
            "placeholder": "​",
            "style": "IPY_MODEL_ec20eb197f0a497a9effe40a875d23c7",
            "value": "100%"
          }
        },
        "a8ac41e277ba4f7298d8e14c46498f8c": {
          "model_module": "@jupyter-widgets/controls",
          "model_module_version": "1.5.0",
          "model_name": "HTMLModel",
          "state": {
            "_dom_classes": [],
            "_model_module": "@jupyter-widgets/controls",
            "_model_module_version": "1.5.0",
            "_model_name": "HTMLModel",
            "_view_count": null,
            "_view_module": "@jupyter-widgets/controls",
            "_view_module_version": "1.5.0",
            "_view_name": "HTMLView",
            "description": "",
            "description_tooltip": null,
            "layout": "IPY_MODEL_d481d246ce7c4743b7e28c11fb965120",
            "placeholder": "​",
            "style": "IPY_MODEL_bdc2d5a57aa24da3a6ee03226ce72371",
            "value": "100%"
          }
        },
        "a9bf4270903847ef94706855461dc9cf": {
          "model_module": "@jupyter-widgets/base",
          "model_module_version": "1.2.0",
          "model_name": "LayoutModel",
          "state": {
            "_model_module": "@jupyter-widgets/base",
            "_model_module_version": "1.2.0",
            "_model_name": "LayoutModel",
            "_view_count": null,
            "_view_module": "@jupyter-widgets/base",
            "_view_module_version": "1.2.0",
            "_view_name": "LayoutView",
            "align_content": null,
            "align_items": null,
            "align_self": null,
            "border": null,
            "bottom": null,
            "display": null,
            "flex": null,
            "flex_flow": null,
            "grid_area": null,
            "grid_auto_columns": null,
            "grid_auto_flow": null,
            "grid_auto_rows": null,
            "grid_column": null,
            "grid_gap": null,
            "grid_row": null,
            "grid_template_areas": null,
            "grid_template_columns": null,
            "grid_template_rows": null,
            "height": null,
            "justify_content": null,
            "justify_items": null,
            "left": null,
            "margin": null,
            "max_height": null,
            "max_width": null,
            "min_height": null,
            "min_width": null,
            "object_fit": null,
            "object_position": null,
            "order": null,
            "overflow": null,
            "overflow_x": null,
            "overflow_y": null,
            "padding": null,
            "right": null,
            "top": null,
            "visibility": null,
            "width": null
          }
        },
        "b301ff0c96934561bd2bd265061bc41c": {
          "model_module": "@jupyter-widgets/controls",
          "model_module_version": "1.5.0",
          "model_name": "DescriptionStyleModel",
          "state": {
            "_model_module": "@jupyter-widgets/controls",
            "_model_module_version": "1.5.0",
            "_model_name": "DescriptionStyleModel",
            "_view_count": null,
            "_view_module": "@jupyter-widgets/base",
            "_view_module_version": "1.2.0",
            "_view_name": "StyleView",
            "description_width": ""
          }
        },
        "b7e59d0c9fd04631a5982531377cabba": {
          "model_module": "@jupyter-widgets/controls",
          "model_module_version": "1.5.0",
          "model_name": "HTMLModel",
          "state": {
            "_dom_classes": [],
            "_model_module": "@jupyter-widgets/controls",
            "_model_module_version": "1.5.0",
            "_model_name": "HTMLModel",
            "_view_count": null,
            "_view_module": "@jupyter-widgets/controls",
            "_view_module_version": "1.5.0",
            "_view_name": "HTMLView",
            "description": "",
            "description_tooltip": null,
            "layout": "IPY_MODEL_f2e5d02e76f04bdc93e7666232b7640b",
            "placeholder": "​",
            "style": "IPY_MODEL_3459c0e791a949078e0e295af9a83f11",
            "value": " 70405/70405 [00:09&lt;00:00, 8751.58it/s]"
          }
        },
        "bc8ecb7b3cab4022b0bde5c03ac8c55d": {
          "model_module": "@jupyter-widgets/controls",
          "model_module_version": "1.5.0",
          "model_name": "HTMLModel",
          "state": {
            "_dom_classes": [],
            "_model_module": "@jupyter-widgets/controls",
            "_model_module_version": "1.5.0",
            "_model_name": "HTMLModel",
            "_view_count": null,
            "_view_module": "@jupyter-widgets/controls",
            "_view_module_version": "1.5.0",
            "_view_name": "HTMLView",
            "description": "",
            "description_tooltip": null,
            "layout": "IPY_MODEL_6004613c805040eeacd47b2fee669455",
            "placeholder": "​",
            "style": "IPY_MODEL_b301ff0c96934561bd2bd265061bc41c",
            "value": " 4245/4245 [00:00&lt;00:00, 4883.05it/s]"
          }
        },
        "bd99be50e01a4f2cbc150e07d5e9fd0a": {
          "model_module": "@jupyter-widgets/controls",
          "model_module_version": "1.5.0",
          "model_name": "HTMLModel",
          "state": {
            "_dom_classes": [],
            "_model_module": "@jupyter-widgets/controls",
            "_model_module_version": "1.5.0",
            "_model_name": "HTMLModel",
            "_view_count": null,
            "_view_module": "@jupyter-widgets/controls",
            "_view_module_version": "1.5.0",
            "_view_name": "HTMLView",
            "description": "",
            "description_tooltip": null,
            "layout": "IPY_MODEL_0a3a0901e0ec48c1bb82da8406fc2d54",
            "placeholder": "​",
            "style": "IPY_MODEL_575f4a91ce1b49f3bf4721b5038b1a20",
            "value": " 70405/70405 [00:17&lt;00:00, 8363.18it/s]"
          }
        },
        "bdc2d5a57aa24da3a6ee03226ce72371": {
          "model_module": "@jupyter-widgets/controls",
          "model_module_version": "1.5.0",
          "model_name": "DescriptionStyleModel",
          "state": {
            "_model_module": "@jupyter-widgets/controls",
            "_model_module_version": "1.5.0",
            "_model_name": "DescriptionStyleModel",
            "_view_count": null,
            "_view_module": "@jupyter-widgets/base",
            "_view_module_version": "1.2.0",
            "_view_name": "StyleView",
            "description_width": ""
          }
        },
        "c0776d564a7c4924856e403ac97f46cd": {
          "model_module": "@jupyter-widgets/base",
          "model_module_version": "1.2.0",
          "model_name": "LayoutModel",
          "state": {
            "_model_module": "@jupyter-widgets/base",
            "_model_module_version": "1.2.0",
            "_model_name": "LayoutModel",
            "_view_count": null,
            "_view_module": "@jupyter-widgets/base",
            "_view_module_version": "1.2.0",
            "_view_name": "LayoutView",
            "align_content": null,
            "align_items": null,
            "align_self": null,
            "border": null,
            "bottom": null,
            "display": null,
            "flex": null,
            "flex_flow": null,
            "grid_area": null,
            "grid_auto_columns": null,
            "grid_auto_flow": null,
            "grid_auto_rows": null,
            "grid_column": null,
            "grid_gap": null,
            "grid_row": null,
            "grid_template_areas": null,
            "grid_template_columns": null,
            "grid_template_rows": null,
            "height": null,
            "justify_content": null,
            "justify_items": null,
            "left": null,
            "margin": null,
            "max_height": null,
            "max_width": null,
            "min_height": null,
            "min_width": null,
            "object_fit": null,
            "object_position": null,
            "order": null,
            "overflow": null,
            "overflow_x": null,
            "overflow_y": null,
            "padding": null,
            "right": null,
            "top": null,
            "visibility": null,
            "width": null
          }
        },
        "c55e8cc1168c403d85c10198c324070b": {
          "model_module": "@jupyter-widgets/controls",
          "model_module_version": "1.5.0",
          "model_name": "HTMLModel",
          "state": {
            "_dom_classes": [],
            "_model_module": "@jupyter-widgets/controls",
            "_model_module_version": "1.5.0",
            "_model_name": "HTMLModel",
            "_view_count": null,
            "_view_module": "@jupyter-widgets/controls",
            "_view_module_version": "1.5.0",
            "_view_name": "HTMLView",
            "description": "",
            "description_tooltip": null,
            "layout": "IPY_MODEL_36dcf6bc8c5a4423b286e7ebb96738ff",
            "placeholder": "​",
            "style": "IPY_MODEL_e4ed09fefdbb41c69a5883fa5d284901",
            "value": "100%"
          }
        },
        "c9ff2e2c86d0445391050ffdea677e03": {
          "model_module": "@jupyter-widgets/base",
          "model_module_version": "1.2.0",
          "model_name": "LayoutModel",
          "state": {
            "_model_module": "@jupyter-widgets/base",
            "_model_module_version": "1.2.0",
            "_model_name": "LayoutModel",
            "_view_count": null,
            "_view_module": "@jupyter-widgets/base",
            "_view_module_version": "1.2.0",
            "_view_name": "LayoutView",
            "align_content": null,
            "align_items": null,
            "align_self": null,
            "border": null,
            "bottom": null,
            "display": null,
            "flex": null,
            "flex_flow": null,
            "grid_area": null,
            "grid_auto_columns": null,
            "grid_auto_flow": null,
            "grid_auto_rows": null,
            "grid_column": null,
            "grid_gap": null,
            "grid_row": null,
            "grid_template_areas": null,
            "grid_template_columns": null,
            "grid_template_rows": null,
            "height": null,
            "justify_content": null,
            "justify_items": null,
            "left": null,
            "margin": null,
            "max_height": null,
            "max_width": null,
            "min_height": null,
            "min_width": null,
            "object_fit": null,
            "object_position": null,
            "order": null,
            "overflow": null,
            "overflow_x": null,
            "overflow_y": null,
            "padding": null,
            "right": null,
            "top": null,
            "visibility": null,
            "width": null
          }
        },
        "d481d246ce7c4743b7e28c11fb965120": {
          "model_module": "@jupyter-widgets/base",
          "model_module_version": "1.2.0",
          "model_name": "LayoutModel",
          "state": {
            "_model_module": "@jupyter-widgets/base",
            "_model_module_version": "1.2.0",
            "_model_name": "LayoutModel",
            "_view_count": null,
            "_view_module": "@jupyter-widgets/base",
            "_view_module_version": "1.2.0",
            "_view_name": "LayoutView",
            "align_content": null,
            "align_items": null,
            "align_self": null,
            "border": null,
            "bottom": null,
            "display": null,
            "flex": null,
            "flex_flow": null,
            "grid_area": null,
            "grid_auto_columns": null,
            "grid_auto_flow": null,
            "grid_auto_rows": null,
            "grid_column": null,
            "grid_gap": null,
            "grid_row": null,
            "grid_template_areas": null,
            "grid_template_columns": null,
            "grid_template_rows": null,
            "height": null,
            "justify_content": null,
            "justify_items": null,
            "left": null,
            "margin": null,
            "max_height": null,
            "max_width": null,
            "min_height": null,
            "min_width": null,
            "object_fit": null,
            "object_position": null,
            "order": null,
            "overflow": null,
            "overflow_x": null,
            "overflow_y": null,
            "padding": null,
            "right": null,
            "top": null,
            "visibility": null,
            "width": null
          }
        },
        "d84e1f480e3947ac972e022e6f9ad4f4": {
          "model_module": "@jupyter-widgets/base",
          "model_module_version": "1.2.0",
          "model_name": "LayoutModel",
          "state": {
            "_model_module": "@jupyter-widgets/base",
            "_model_module_version": "1.2.0",
            "_model_name": "LayoutModel",
            "_view_count": null,
            "_view_module": "@jupyter-widgets/base",
            "_view_module_version": "1.2.0",
            "_view_name": "LayoutView",
            "align_content": null,
            "align_items": null,
            "align_self": null,
            "border": null,
            "bottom": null,
            "display": null,
            "flex": null,
            "flex_flow": null,
            "grid_area": null,
            "grid_auto_columns": null,
            "grid_auto_flow": null,
            "grid_auto_rows": null,
            "grid_column": null,
            "grid_gap": null,
            "grid_row": null,
            "grid_template_areas": null,
            "grid_template_columns": null,
            "grid_template_rows": null,
            "height": null,
            "justify_content": null,
            "justify_items": null,
            "left": null,
            "margin": null,
            "max_height": null,
            "max_width": null,
            "min_height": null,
            "min_width": null,
            "object_fit": null,
            "object_position": null,
            "order": null,
            "overflow": null,
            "overflow_x": null,
            "overflow_y": null,
            "padding": null,
            "right": null,
            "top": null,
            "visibility": null,
            "width": null
          }
        },
        "d8aac9911e804eedbc8eaabb351f86e3": {
          "model_module": "@jupyter-widgets/controls",
          "model_module_version": "1.5.0",
          "model_name": "DescriptionStyleModel",
          "state": {
            "_model_module": "@jupyter-widgets/controls",
            "_model_module_version": "1.5.0",
            "_model_name": "DescriptionStyleModel",
            "_view_count": null,
            "_view_module": "@jupyter-widgets/base",
            "_view_module_version": "1.2.0",
            "_view_name": "StyleView",
            "description_width": ""
          }
        },
        "e4ed09fefdbb41c69a5883fa5d284901": {
          "model_module": "@jupyter-widgets/controls",
          "model_module_version": "1.5.0",
          "model_name": "DescriptionStyleModel",
          "state": {
            "_model_module": "@jupyter-widgets/controls",
            "_model_module_version": "1.5.0",
            "_model_name": "DescriptionStyleModel",
            "_view_count": null,
            "_view_module": "@jupyter-widgets/base",
            "_view_module_version": "1.2.0",
            "_view_name": "StyleView",
            "description_width": ""
          }
        },
        "ec20eb197f0a497a9effe40a875d23c7": {
          "model_module": "@jupyter-widgets/controls",
          "model_module_version": "1.5.0",
          "model_name": "DescriptionStyleModel",
          "state": {
            "_model_module": "@jupyter-widgets/controls",
            "_model_module_version": "1.5.0",
            "_model_name": "DescriptionStyleModel",
            "_view_count": null,
            "_view_module": "@jupyter-widgets/base",
            "_view_module_version": "1.2.0",
            "_view_name": "StyleView",
            "description_width": ""
          }
        },
        "f2e5d02e76f04bdc93e7666232b7640b": {
          "model_module": "@jupyter-widgets/base",
          "model_module_version": "1.2.0",
          "model_name": "LayoutModel",
          "state": {
            "_model_module": "@jupyter-widgets/base",
            "_model_module_version": "1.2.0",
            "_model_name": "LayoutModel",
            "_view_count": null,
            "_view_module": "@jupyter-widgets/base",
            "_view_module_version": "1.2.0",
            "_view_name": "LayoutView",
            "align_content": null,
            "align_items": null,
            "align_self": null,
            "border": null,
            "bottom": null,
            "display": null,
            "flex": null,
            "flex_flow": null,
            "grid_area": null,
            "grid_auto_columns": null,
            "grid_auto_flow": null,
            "grid_auto_rows": null,
            "grid_column": null,
            "grid_gap": null,
            "grid_row": null,
            "grid_template_areas": null,
            "grid_template_columns": null,
            "grid_template_rows": null,
            "height": null,
            "justify_content": null,
            "justify_items": null,
            "left": null,
            "margin": null,
            "max_height": null,
            "max_width": null,
            "min_height": null,
            "min_width": null,
            "object_fit": null,
            "object_position": null,
            "order": null,
            "overflow": null,
            "overflow_x": null,
            "overflow_y": null,
            "padding": null,
            "right": null,
            "top": null,
            "visibility": null,
            "width": null
          }
        },
        "face6ec7ed0b41de9653293e44b14d5f": {
          "model_module": "@jupyter-widgets/controls",
          "model_module_version": "1.5.0",
          "model_name": "FloatProgressModel",
          "state": {
            "_dom_classes": [],
            "_model_module": "@jupyter-widgets/controls",
            "_model_module_version": "1.5.0",
            "_model_name": "FloatProgressModel",
            "_view_count": null,
            "_view_module": "@jupyter-widgets/controls",
            "_view_module_version": "1.5.0",
            "_view_name": "ProgressView",
            "bar_style": "success",
            "description": "",
            "description_tooltip": null,
            "layout": "IPY_MODEL_c0776d564a7c4924856e403ac97f46cd",
            "max": 70405,
            "min": 0,
            "orientation": "horizontal",
            "style": "IPY_MODEL_413857b42e0548c59184c478bc16e709",
            "value": 70405
          }
        },
        "fdc234e01c7b4882a70825bc262b2f2f": {
          "model_module": "@jupyter-widgets/base",
          "model_module_version": "1.2.0",
          "model_name": "LayoutModel",
          "state": {
            "_model_module": "@jupyter-widgets/base",
            "_model_module_version": "1.2.0",
            "_model_name": "LayoutModel",
            "_view_count": null,
            "_view_module": "@jupyter-widgets/base",
            "_view_module_version": "1.2.0",
            "_view_name": "LayoutView",
            "align_content": null,
            "align_items": null,
            "align_self": null,
            "border": null,
            "bottom": null,
            "display": null,
            "flex": null,
            "flex_flow": null,
            "grid_area": null,
            "grid_auto_columns": null,
            "grid_auto_flow": null,
            "grid_auto_rows": null,
            "grid_column": null,
            "grid_gap": null,
            "grid_row": null,
            "grid_template_areas": null,
            "grid_template_columns": null,
            "grid_template_rows": null,
            "height": null,
            "justify_content": null,
            "justify_items": null,
            "left": null,
            "margin": null,
            "max_height": null,
            "max_width": null,
            "min_height": null,
            "min_width": null,
            "object_fit": null,
            "object_position": null,
            "order": null,
            "overflow": null,
            "overflow_x": null,
            "overflow_y": null,
            "padding": null,
            "right": null,
            "top": null,
            "visibility": null,
            "width": null
          }
        }
      }
    }
  },
  "nbformat": 4,
  "nbformat_minor": 0
}